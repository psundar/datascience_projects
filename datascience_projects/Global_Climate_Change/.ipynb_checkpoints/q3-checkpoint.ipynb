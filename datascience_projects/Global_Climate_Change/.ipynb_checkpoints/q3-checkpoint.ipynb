{
 "cells": [
  {
   "cell_type": "markdown",
   "metadata": {},
   "source": [
    "# Clustering Countries Based On Their Potential To Become Co2 Neutral"
   ]
  },
  {
   "cell_type": "code",
   "execution_count": 2,
   "metadata": {
    "collapsed": true
   },
   "outputs": [],
   "source": [
    "import pandas as pd"
   ]
  },
  {
   "cell_type": "code",
   "execution_count": 3,
   "metadata": {
    "collapsed": true
   },
   "outputs": [],
   "source": [
    "global_temp = pd.read_csv(\"GlobalLandTemperaturesByCountry.csv\")\n",
    "ghg_emissions = pd.read_csv(\"CAIT Country GHG Emissions.csv\", skiprows=2)"
   ]
  },
  {
   "cell_type": "code",
   "execution_count": 4,
   "metadata": {
    "collapsed": false
   },
   "outputs": [],
   "source": [
    "#help(pd.read_csv)"
   ]
  },
  {
   "cell_type": "code",
   "execution_count": 5,
   "metadata": {
    "collapsed": true
   },
   "outputs": [],
   "source": [
    "#importing visualization tool matplotlib\n",
    "import matplotlib.pyplot as plt\n",
    "%matplotlib inline"
   ]
  },
  {
   "cell_type": "markdown",
   "metadata": {},
   "source": [
    "## Country wide co2 emissions (Metric ton per capita) data from World Bank \n",
    "http://data.worldbank.org/indicator/EN.ATM.CO2E.PC"
   ]
  },
  {
   "cell_type": "code",
   "execution_count": 6,
   "metadata": {
    "collapsed": true
   },
   "outputs": [],
   "source": [
    "\n",
    "co2_emissions_wb = pd.read_csv(\"Co2Emissions_country.csv\", skiprows=4)"
   ]
  },
  {
   "cell_type": "code",
   "execution_count": 7,
   "metadata": {
    "collapsed": false
   },
   "outputs": [
    {
     "name": "stdout",
     "output_type": "stream",
     "text": [
      "<class 'pandas.core.frame.DataFrame'>\n",
      "Int64Index: 248 entries, 0 to 247\n",
      "Data columns (total 61 columns):\n",
      "Country Name      248 non-null object\n",
      "Country Code      248 non-null object\n",
      "Indicator Name    248 non-null object\n",
      "Indicator Code    248 non-null object\n",
      "1960              178 non-null float64\n",
      "1961              179 non-null float64\n",
      "1962              180 non-null float64\n",
      "1963              181 non-null float64\n",
      "1964              186 non-null float64\n",
      "1965              186 non-null float64\n",
      "1966              186 non-null float64\n",
      "1967              186 non-null float64\n",
      "1968              185 non-null float64\n",
      "1969              186 non-null float64\n",
      "1970              188 non-null float64\n",
      "1971              189 non-null float64\n",
      "1972              192 non-null float64\n",
      "1973              192 non-null float64\n",
      "1974              192 non-null float64\n",
      "1975              192 non-null float64\n",
      "1976              192 non-null float64\n",
      "1977              192 non-null float64\n",
      "1978              192 non-null float64\n",
      "1979              192 non-null float64\n",
      "1980              192 non-null float64\n",
      "1981              192 non-null float64\n",
      "1982              192 non-null float64\n",
      "1983              192 non-null float64\n",
      "1984              192 non-null float64\n",
      "1985              192 non-null float64\n",
      "1986              193 non-null float64\n",
      "1987              193 non-null float64\n",
      "1988              193 non-null float64\n",
      "1989              193 non-null float64\n",
      "1990              195 non-null float64\n",
      "1991              196 non-null float64\n",
      "1992              219 non-null float64\n",
      "1993              219 non-null float64\n",
      "1994              220 non-null float64\n",
      "1995              223 non-null float64\n",
      "1996              222 non-null float64\n",
      "1997              224 non-null float64\n",
      "1998              226 non-null float64\n",
      "1999              226 non-null float64\n",
      "2000              227 non-null float64\n",
      "2001              227 non-null float64\n",
      "2002              228 non-null float64\n",
      "2003              228 non-null float64\n",
      "2004              228 non-null float64\n",
      "2005              230 non-null float64\n",
      "2006              231 non-null float64\n",
      "2007              232 non-null float64\n",
      "2008              232 non-null float64\n",
      "2009              232 non-null float64\n",
      "2010              232 non-null float64\n",
      "2011              232 non-null float64\n",
      "2012              0 non-null float64\n",
      "2013              0 non-null float64\n",
      "2014              0 non-null float64\n",
      "2015              0 non-null float64\n",
      "Unnamed: 60       0 non-null float64\n",
      "dtypes: float64(57), object(4)\n",
      "memory usage: 120.1+ KB\n"
     ]
    }
   ],
   "source": [
    "co2_emissions_wb.info()"
   ]
  },
  {
   "cell_type": "code",
   "execution_count": 8,
   "metadata": {
    "collapsed": false
   },
   "outputs": [],
   "source": [
    "#removing null columns\n",
    "co2_emissions_wb.drop('Unnamed: 60', 1, inplace=True)\n",
    "co2_emissions_wb.drop('2012', 1, inplace=True)\n",
    "co2_emissions_wb.drop('2013', 1, inplace=True)\n",
    "co2_emissions_wb.drop('2014', 1, inplace=True)\n",
    "co2_emissions_wb.drop('2015', 1, inplace=True)"
   ]
  },
  {
   "cell_type": "code",
   "execution_count": 9,
   "metadata": {
    "collapsed": false
   },
   "outputs": [
    {
     "name": "stdout",
     "output_type": "stream",
     "text": [
      "<class 'pandas.core.frame.DataFrame'>\n",
      "Int64Index: 248 entries, 0 to 247\n",
      "Data columns (total 56 columns):\n",
      "Country Name      248 non-null object\n",
      "Country Code      248 non-null object\n",
      "Indicator Name    248 non-null object\n",
      "Indicator Code    248 non-null object\n",
      "1960              178 non-null float64\n",
      "1961              179 non-null float64\n",
      "1962              180 non-null float64\n",
      "1963              181 non-null float64\n",
      "1964              186 non-null float64\n",
      "1965              186 non-null float64\n",
      "1966              186 non-null float64\n",
      "1967              186 non-null float64\n",
      "1968              185 non-null float64\n",
      "1969              186 non-null float64\n",
      "1970              188 non-null float64\n",
      "1971              189 non-null float64\n",
      "1972              192 non-null float64\n",
      "1973              192 non-null float64\n",
      "1974              192 non-null float64\n",
      "1975              192 non-null float64\n",
      "1976              192 non-null float64\n",
      "1977              192 non-null float64\n",
      "1978              192 non-null float64\n",
      "1979              192 non-null float64\n",
      "1980              192 non-null float64\n",
      "1981              192 non-null float64\n",
      "1982              192 non-null float64\n",
      "1983              192 non-null float64\n",
      "1984              192 non-null float64\n",
      "1985              192 non-null float64\n",
      "1986              193 non-null float64\n",
      "1987              193 non-null float64\n",
      "1988              193 non-null float64\n",
      "1989              193 non-null float64\n",
      "1990              195 non-null float64\n",
      "1991              196 non-null float64\n",
      "1992              219 non-null float64\n",
      "1993              219 non-null float64\n",
      "1994              220 non-null float64\n",
      "1995              223 non-null float64\n",
      "1996              222 non-null float64\n",
      "1997              224 non-null float64\n",
      "1998              226 non-null float64\n",
      "1999              226 non-null float64\n",
      "2000              227 non-null float64\n",
      "2001              227 non-null float64\n",
      "2002              228 non-null float64\n",
      "2003              228 non-null float64\n",
      "2004              228 non-null float64\n",
      "2005              230 non-null float64\n",
      "2006              231 non-null float64\n",
      "2007              232 non-null float64\n",
      "2008              232 non-null float64\n",
      "2009              232 non-null float64\n",
      "2010              232 non-null float64\n",
      "2011              232 non-null float64\n",
      "dtypes: float64(52), object(4)\n",
      "memory usage: 110.4+ KB\n"
     ]
    }
   ],
   "source": [
    "co2_emissions_wb.info()"
   ]
  },
  {
   "cell_type": "code",
   "execution_count": 10,
   "metadata": {
    "collapsed": false
   },
   "outputs": [
    {
     "data": {
      "text/html": [
       "<div>\n",
       "<table border=\"1\" class=\"dataframe\">\n",
       "  <thead>\n",
       "    <tr style=\"text-align: right;\">\n",
       "      <th></th>\n",
       "      <th>Country Name</th>\n",
       "      <th>Country Code</th>\n",
       "      <th>Indicator Name</th>\n",
       "      <th>Indicator Code</th>\n",
       "      <th>Year</th>\n",
       "      <th>Co2_emissions</th>\n",
       "    </tr>\n",
       "  </thead>\n",
       "  <tbody>\n",
       "    <tr>\n",
       "      <th>0</th>\n",
       "      <td>Aruba</td>\n",
       "      <td>ABW</td>\n",
       "      <td>CO2 emissions (metric tons per capita)</td>\n",
       "      <td>EN.ATM.CO2E.PC</td>\n",
       "      <td>1960</td>\n",
       "      <td>NaN</td>\n",
       "    </tr>\n",
       "    <tr>\n",
       "      <th>1</th>\n",
       "      <td>Andorra</td>\n",
       "      <td>AND</td>\n",
       "      <td>CO2 emissions (metric tons per capita)</td>\n",
       "      <td>EN.ATM.CO2E.PC</td>\n",
       "      <td>1960</td>\n",
       "      <td>NaN</td>\n",
       "    </tr>\n",
       "    <tr>\n",
       "      <th>2</th>\n",
       "      <td>Afghanistan</td>\n",
       "      <td>AFG</td>\n",
       "      <td>CO2 emissions (metric tons per capita)</td>\n",
       "      <td>EN.ATM.CO2E.PC</td>\n",
       "      <td>1960</td>\n",
       "      <td>0.046068</td>\n",
       "    </tr>\n",
       "    <tr>\n",
       "      <th>3</th>\n",
       "      <td>Angola</td>\n",
       "      <td>AGO</td>\n",
       "      <td>CO2 emissions (metric tons per capita)</td>\n",
       "      <td>EN.ATM.CO2E.PC</td>\n",
       "      <td>1960</td>\n",
       "      <td>0.104357</td>\n",
       "    </tr>\n",
       "    <tr>\n",
       "      <th>4</th>\n",
       "      <td>Albania</td>\n",
       "      <td>ALB</td>\n",
       "      <td>CO2 emissions (metric tons per capita)</td>\n",
       "      <td>EN.ATM.CO2E.PC</td>\n",
       "      <td>1960</td>\n",
       "      <td>1.258195</td>\n",
       "    </tr>\n",
       "  </tbody>\n",
       "</table>\n",
       "</div>"
      ],
      "text/plain": [
       "  Country Name Country Code                          Indicator Name  \\\n",
       "0        Aruba          ABW  CO2 emissions (metric tons per capita)   \n",
       "1      Andorra          AND  CO2 emissions (metric tons per capita)   \n",
       "2  Afghanistan          AFG  CO2 emissions (metric tons per capita)   \n",
       "3       Angola          AGO  CO2 emissions (metric tons per capita)   \n",
       "4      Albania          ALB  CO2 emissions (metric tons per capita)   \n",
       "\n",
       "   Indicator Code  Year  Co2_emissions  \n",
       "0  EN.ATM.CO2E.PC  1960            NaN  \n",
       "1  EN.ATM.CO2E.PC  1960            NaN  \n",
       "2  EN.ATM.CO2E.PC  1960       0.046068  \n",
       "3  EN.ATM.CO2E.PC  1960       0.104357  \n",
       "4  EN.ATM.CO2E.PC  1960       1.258195  "
      ]
     },
     "execution_count": 10,
     "metadata": {},
     "output_type": "execute_result"
    }
   ],
   "source": [
    "#togo_co2 = co2_emissions_wb[co2_emissions_wb['Country Name'] == 'Togo']\n",
    "#print togo_co2\n",
    "#type(togo_co2)\n",
    "country_wise_co2 = pd.melt(co2_emissions_wb,id_vars=['Country Name', 'Country Code', 'Indicator Name', 'Indicator Code'], var_name='Year', value_name='Co2_emissions')\n",
    "country_wise_co2.head()"
   ]
  },
  {
   "cell_type": "code",
   "execution_count": 11,
   "metadata": {
    "collapsed": false
   },
   "outputs": [
    {
     "data": {
      "text/html": [
       "<div>\n",
       "<table border=\"1\" class=\"dataframe\">\n",
       "  <thead>\n",
       "    <tr style=\"text-align: right;\">\n",
       "      <th></th>\n",
       "      <th>Country Name</th>\n",
       "      <th>Country Code</th>\n",
       "      <th>Indicator Name</th>\n",
       "      <th>Indicator Code</th>\n",
       "      <th>Year</th>\n",
       "      <th>Co2_emissions</th>\n",
       "    </tr>\n",
       "  </thead>\n",
       "  <tbody>\n",
       "    <tr>\n",
       "      <th>2</th>\n",
       "      <td>Afghanistan</td>\n",
       "      <td>AFG</td>\n",
       "      <td>CO2 emissions (metric tons per capita)</td>\n",
       "      <td>EN.ATM.CO2E.PC</td>\n",
       "      <td>1960</td>\n",
       "      <td>0.046068</td>\n",
       "    </tr>\n",
       "    <tr>\n",
       "      <th>3</th>\n",
       "      <td>Angola</td>\n",
       "      <td>AGO</td>\n",
       "      <td>CO2 emissions (metric tons per capita)</td>\n",
       "      <td>EN.ATM.CO2E.PC</td>\n",
       "      <td>1960</td>\n",
       "      <td>0.104357</td>\n",
       "    </tr>\n",
       "    <tr>\n",
       "      <th>4</th>\n",
       "      <td>Albania</td>\n",
       "      <td>ALB</td>\n",
       "      <td>CO2 emissions (metric tons per capita)</td>\n",
       "      <td>EN.ATM.CO2E.PC</td>\n",
       "      <td>1960</td>\n",
       "      <td>1.258195</td>\n",
       "    </tr>\n",
       "    <tr>\n",
       "      <th>5</th>\n",
       "      <td>Arab World</td>\n",
       "      <td>ARB</td>\n",
       "      <td>CO2 emissions (metric tons per capita)</td>\n",
       "      <td>EN.ATM.CO2E.PC</td>\n",
       "      <td>1960</td>\n",
       "      <td>0.643964</td>\n",
       "    </tr>\n",
       "    <tr>\n",
       "      <th>6</th>\n",
       "      <td>United Arab Emirates</td>\n",
       "      <td>ARE</td>\n",
       "      <td>CO2 emissions (metric tons per capita)</td>\n",
       "      <td>EN.ATM.CO2E.PC</td>\n",
       "      <td>1960</td>\n",
       "      <td>0.118786</td>\n",
       "    </tr>\n",
       "  </tbody>\n",
       "</table>\n",
       "</div>"
      ],
      "text/plain": [
       "           Country Name Country Code                          Indicator Name  \\\n",
       "2           Afghanistan          AFG  CO2 emissions (metric tons per capita)   \n",
       "3                Angola          AGO  CO2 emissions (metric tons per capita)   \n",
       "4               Albania          ALB  CO2 emissions (metric tons per capita)   \n",
       "5            Arab World          ARB  CO2 emissions (metric tons per capita)   \n",
       "6  United Arab Emirates          ARE  CO2 emissions (metric tons per capita)   \n",
       "\n",
       "   Indicator Code  Year  Co2_emissions  \n",
       "2  EN.ATM.CO2E.PC  1960       0.046068  \n",
       "3  EN.ATM.CO2E.PC  1960       0.104357  \n",
       "4  EN.ATM.CO2E.PC  1960       1.258195  \n",
       "5  EN.ATM.CO2E.PC  1960       0.643964  \n",
       "6  EN.ATM.CO2E.PC  1960       0.118786  "
      ]
     },
     "execution_count": 11,
     "metadata": {},
     "output_type": "execute_result"
    }
   ],
   "source": [
    "#dropping null values\n",
    "country_wise_co2.dropna(inplace=True)\n",
    "country_wise_co2.head()"
   ]
  },
  {
   "cell_type": "code",
   "execution_count": 12,
   "metadata": {
    "collapsed": false
   },
   "outputs": [
    {
     "data": {
      "text/html": [
       "<div>\n",
       "<table border=\"1\" class=\"dataframe\">\n",
       "  <thead>\n",
       "    <tr style=\"text-align: right;\">\n",
       "      <th></th>\n",
       "      <th>Country Name</th>\n",
       "      <th>Country Code</th>\n",
       "      <th>Indicator Name</th>\n",
       "      <th>Indicator Code</th>\n",
       "      <th>Year</th>\n",
       "      <th>Co2_emissions</th>\n",
       "    </tr>\n",
       "  </thead>\n",
       "  <tbody>\n",
       "    <tr>\n",
       "      <th>2510</th>\n",
       "      <td>Bhutan</td>\n",
       "      <td>BTN</td>\n",
       "      <td>CO2 emissions (metric tons per capita)</td>\n",
       "      <td>EN.ATM.CO2E.PC</td>\n",
       "      <td>1970</td>\n",
       "      <td>0.012582</td>\n",
       "    </tr>\n",
       "    <tr>\n",
       "      <th>2758</th>\n",
       "      <td>Bhutan</td>\n",
       "      <td>BTN</td>\n",
       "      <td>CO2 emissions (metric tons per capita)</td>\n",
       "      <td>EN.ATM.CO2E.PC</td>\n",
       "      <td>1971</td>\n",
       "      <td>0.012156</td>\n",
       "    </tr>\n",
       "    <tr>\n",
       "      <th>3006</th>\n",
       "      <td>Bhutan</td>\n",
       "      <td>BTN</td>\n",
       "      <td>CO2 emissions (metric tons per capita)</td>\n",
       "      <td>EN.ATM.CO2E.PC</td>\n",
       "      <td>1972</td>\n",
       "      <td>0.011726</td>\n",
       "    </tr>\n",
       "    <tr>\n",
       "      <th>3254</th>\n",
       "      <td>Bhutan</td>\n",
       "      <td>BTN</td>\n",
       "      <td>CO2 emissions (metric tons per capita)</td>\n",
       "      <td>EN.ATM.CO2E.PC</td>\n",
       "      <td>1973</td>\n",
       "      <td>0.011302</td>\n",
       "    </tr>\n",
       "    <tr>\n",
       "      <th>3502</th>\n",
       "      <td>Bhutan</td>\n",
       "      <td>BTN</td>\n",
       "      <td>CO2 emissions (metric tons per capita)</td>\n",
       "      <td>EN.ATM.CO2E.PC</td>\n",
       "      <td>1974</td>\n",
       "      <td>0.010892</td>\n",
       "    </tr>\n",
       "  </tbody>\n",
       "</table>\n",
       "</div>"
      ],
      "text/plain": [
       "     Country Name Country Code                          Indicator Name  \\\n",
       "2510       Bhutan          BTN  CO2 emissions (metric tons per capita)   \n",
       "2758       Bhutan          BTN  CO2 emissions (metric tons per capita)   \n",
       "3006       Bhutan          BTN  CO2 emissions (metric tons per capita)   \n",
       "3254       Bhutan          BTN  CO2 emissions (metric tons per capita)   \n",
       "3502       Bhutan          BTN  CO2 emissions (metric tons per capita)   \n",
       "\n",
       "      Indicator Code  Year  Co2_emissions  \n",
       "2510  EN.ATM.CO2E.PC  1970       0.012582  \n",
       "2758  EN.ATM.CO2E.PC  1971       0.012156  \n",
       "3006  EN.ATM.CO2E.PC  1972       0.011726  \n",
       "3254  EN.ATM.CO2E.PC  1973       0.011302  \n",
       "3502  EN.ATM.CO2E.PC  1974       0.010892  "
      ]
     },
     "execution_count": 12,
     "metadata": {},
     "output_type": "execute_result"
    }
   ],
   "source": [
    "# Extracting Bhutan's co2 emissions history\n",
    "\n",
    "bhutan_co2 = country_wise_co2[country_wise_co2['Country Name'] == 'Bhutan']\n",
    "bhutan_co2.head()"
   ]
  },
  {
   "cell_type": "code",
   "execution_count": 13,
   "metadata": {
    "collapsed": false
   },
   "outputs": [
    {
     "data": {
      "text/html": [
       "<div>\n",
       "<table border=\"1\" class=\"dataframe\">\n",
       "  <thead>\n",
       "    <tr style=\"text-align: right;\">\n",
       "      <th></th>\n",
       "      <th>Country Name</th>\n",
       "      <th>Country Code</th>\n",
       "      <th>Indicator Name</th>\n",
       "      <th>Indicator Code</th>\n",
       "      <th>Year</th>\n",
       "      <th>Co2_emissions</th>\n",
       "    </tr>\n",
       "  </thead>\n",
       "  <tbody>\n",
       "    <tr>\n",
       "      <th>233</th>\n",
       "      <td>United States</td>\n",
       "      <td>USA</td>\n",
       "      <td>CO2 emissions (metric tons per capita)</td>\n",
       "      <td>EN.ATM.CO2E.PC</td>\n",
       "      <td>1960</td>\n",
       "      <td>15.999779</td>\n",
       "    </tr>\n",
       "    <tr>\n",
       "      <th>481</th>\n",
       "      <td>United States</td>\n",
       "      <td>USA</td>\n",
       "      <td>CO2 emissions (metric tons per capita)</td>\n",
       "      <td>EN.ATM.CO2E.PC</td>\n",
       "      <td>1961</td>\n",
       "      <td>15.681256</td>\n",
       "    </tr>\n",
       "    <tr>\n",
       "      <th>729</th>\n",
       "      <td>United States</td>\n",
       "      <td>USA</td>\n",
       "      <td>CO2 emissions (metric tons per capita)</td>\n",
       "      <td>EN.ATM.CO2E.PC</td>\n",
       "      <td>1962</td>\n",
       "      <td>16.013937</td>\n",
       "    </tr>\n",
       "    <tr>\n",
       "      <th>977</th>\n",
       "      <td>United States</td>\n",
       "      <td>USA</td>\n",
       "      <td>CO2 emissions (metric tons per capita)</td>\n",
       "      <td>EN.ATM.CO2E.PC</td>\n",
       "      <td>1963</td>\n",
       "      <td>16.482762</td>\n",
       "    </tr>\n",
       "    <tr>\n",
       "      <th>1225</th>\n",
       "      <td>United States</td>\n",
       "      <td>USA</td>\n",
       "      <td>CO2 emissions (metric tons per capita)</td>\n",
       "      <td>EN.ATM.CO2E.PC</td>\n",
       "      <td>1964</td>\n",
       "      <td>16.968119</td>\n",
       "    </tr>\n",
       "  </tbody>\n",
       "</table>\n",
       "</div>"
      ],
      "text/plain": [
       "       Country Name Country Code                          Indicator Name  \\\n",
       "233   United States          USA  CO2 emissions (metric tons per capita)   \n",
       "481   United States          USA  CO2 emissions (metric tons per capita)   \n",
       "729   United States          USA  CO2 emissions (metric tons per capita)   \n",
       "977   United States          USA  CO2 emissions (metric tons per capita)   \n",
       "1225  United States          USA  CO2 emissions (metric tons per capita)   \n",
       "\n",
       "      Indicator Code  Year  Co2_emissions  \n",
       "233   EN.ATM.CO2E.PC  1960      15.999779  \n",
       "481   EN.ATM.CO2E.PC  1961      15.681256  \n",
       "729   EN.ATM.CO2E.PC  1962      16.013937  \n",
       "977   EN.ATM.CO2E.PC  1963      16.482762  \n",
       "1225  EN.ATM.CO2E.PC  1964      16.968119  "
      ]
     },
     "execution_count": 13,
     "metadata": {},
     "output_type": "execute_result"
    }
   ],
   "source": [
    "# Extracting USA's Co2 emissions\n",
    "\n",
    "usa_co2 = country_wise_co2[country_wise_co2['Country Name'] == 'United States']\n",
    "usa_co2.head()"
   ]
  },
  {
   "cell_type": "code",
   "execution_count": 14,
   "metadata": {
    "collapsed": false
   },
   "outputs": [
    {
     "data": {
      "text/plain": [
       "<matplotlib.legend.Legend at 0x11f523950>"
      ]
     },
     "execution_count": 14,
     "metadata": {},
     "output_type": "execute_result"
    },
    {
     "data": {
      "image/png": "[encoded data removed]",
      "text/plain": [
       "<matplotlib.figure.Figure at 0x11b99e110>"
      ]
     },
     "metadata": {},
     "output_type": "display_data"
    }
   ],
   "source": [
    "# Plotting Bhutan's co2 emissions over time\n",
    "fig = plt.figure()\n",
    "ax = fig.add_subplot(211)\n",
    "ax.plot(bhutan_co2['Year'], bhutan_co2['Co2_emissions'], label = \"Bhutan\")\n",
    "ax.legend(loc=\"upper left\")\n",
    "#ax.set_title(\"Bhutan C02 Emissions\")\n",
    "#ax.set_xlabel(\"Years\")\n",
    "ax.set_ylabel(\"co2 met.tn/cap\")\n",
    "# Plotting USA's co2 emissions over time\n",
    "ax = fig.add_subplot(212)\n",
    "ax.plot(usa_co2['Year'], usa_co2['Co2_emissions'], color = \"Red\", label = \"USA\")\n",
    "#ax.set_title(\"USA C02 Emissions\")\n",
    "ax.set_xlabel(\"Years\")\n",
    "ax.set_ylabel(\"co2 met.tn/cap\")\n",
    "ax.legend()"
   ]
  },
  {
   "cell_type": "code",
   "execution_count": 15,
   "metadata": {
    "collapsed": true
   },
   "outputs": [],
   "source": [
    "fig.savefig(\"individual_co2_emissions.png\")"
   ]
  },
  {
   "cell_type": "code",
   "execution_count": 16,
   "metadata": {
    "collapsed": false
   },
   "outputs": [
    {
     "data": {
      "text/plain": [
       "<matplotlib.legend.Legend at 0x11f8ecc50>"
      ]
     },
     "execution_count": 16,
     "metadata": {},
     "output_type": "execute_result"
    },
    {
     "data": {
      "image/png": "[encoded data removed]",
      "text/plain": [
       "<matplotlib.figure.Figure at 0x11f7c59d0>"
      ]
     },
     "metadata": {},
     "output_type": "display_data"
    }
   ],
   "source": [
    "fig = plt.figure()\n",
    "ax = fig.add_subplot(111)\n",
    "ax.plot(bhutan_co2['Year'], bhutan_co2['Co2_emissions'], label=\"Bhutan\")\n",
    "#ax.set_title(\"Bhutan C02 Emissions\")\n",
    "#ax.set_xlabel(\"Years\")\n",
    "#ax.set_ylabel(\"metric ton per capita\")\n",
    "# Plotting USA's co2 emissions over time\n",
    "ax = fig.add_subplot(111)\n",
    "ax.plot(usa_co2['Year'], usa_co2['Co2_emissions'], color = \"Red\", label=\"USA\")\n",
    "ax.set_title(\"USA C02 Emissions\")\n",
    "ax.set_xlabel(\"Years\")\n",
    "ax.set_ylabel(\"metric ton per capita\")\n",
    "ax.legend()"
   ]
  },
  {
   "cell_type": "code",
   "execution_count": 17,
   "metadata": {
    "collapsed": false
   },
   "outputs": [],
   "source": [
    "fig.savefig('samescale_co2emissions.png')"
   ]
  },
  {
   "cell_type": "markdown",
   "metadata": {},
   "source": [
    "## Country wide percentage of forest area data from World Bank \n",
    "http://data.worldbank.org/indicator/AG.LND.FRST.ZS"
   ]
  },
  {
   "cell_type": "code",
   "execution_count": 18,
   "metadata": {
    "collapsed": false
   },
   "outputs": [
    {
     "name": "stdout",
     "output_type": "stream",
     "text": [
      "<class 'pandas.core.frame.DataFrame'>\n",
      "Int64Index: 248 entries, 0 to 247\n",
      "Data columns (total 61 columns):\n",
      "Country Name      248 non-null object\n",
      "Country Code      248 non-null object\n",
      "Indicator Name    248 non-null object\n",
      "Indicator Code    248 non-null object\n",
      "1960              0 non-null float64\n",
      "1961              0 non-null float64\n",
      "1962              0 non-null float64\n",
      "1963              0 non-null float64\n",
      "1964              0 non-null float64\n",
      "1965              0 non-null float64\n",
      "1966              0 non-null float64\n",
      "1967              0 non-null float64\n",
      "1968              0 non-null float64\n",
      "1969              0 non-null float64\n",
      "1970              0 non-null float64\n",
      "1971              0 non-null float64\n",
      "1972              0 non-null float64\n",
      "1973              0 non-null float64\n",
      "1974              0 non-null float64\n",
      "1975              0 non-null float64\n",
      "1976              0 non-null float64\n",
      "1977              0 non-null float64\n",
      "1978              0 non-null float64\n",
      "1979              0 non-null float64\n",
      "1980              0 non-null float64\n",
      "1981              0 non-null float64\n",
      "1982              0 non-null float64\n",
      "1983              0 non-null float64\n",
      "1984              0 non-null float64\n",
      "1985              0 non-null float64\n",
      "1986              0 non-null float64\n",
      "1987              0 non-null float64\n",
      "1988              0 non-null float64\n",
      "1989              0 non-null float64\n",
      "1990              235 non-null float64\n",
      "1991              209 non-null float64\n",
      "1992              232 non-null float64\n",
      "1993              235 non-null float64\n",
      "1994              235 non-null float64\n",
      "1995              235 non-null float64\n",
      "1996              235 non-null float64\n",
      "1997              235 non-null float64\n",
      "1998              235 non-null float64\n",
      "1999              235 non-null float64\n",
      "2000              241 non-null float64\n",
      "2001              237 non-null float64\n",
      "2002              237 non-null float64\n",
      "2003              237 non-null float64\n",
      "2004              237 non-null float64\n",
      "2005              241 non-null float64\n",
      "2006              239 non-null float64\n",
      "2007              239 non-null float64\n",
      "2008              239 non-null float64\n",
      "2009              239 non-null float64\n",
      "2010              241 non-null float64\n",
      "2011              239 non-null float64\n",
      "2012              239 non-null float64\n",
      "2013              239 non-null float64\n",
      "2014              0 non-null float64\n",
      "2015              236 non-null float64\n",
      "Unnamed: 60       0 non-null float64\n",
      "dtypes: float64(57), object(4)\n",
      "memory usage: 120.1+ KB\n"
     ]
    }
   ],
   "source": [
    "forest_cover = pd.read_csv(\"Country_wise_forest_area_percentage.csv\", skiprows=4)\n",
    "forest_cover.info()"
   ]
  },
  {
   "cell_type": "code",
   "execution_count": 19,
   "metadata": {
    "collapsed": false
   },
   "outputs": [
    {
     "name": "stdout",
     "output_type": "stream",
     "text": [
      "<class 'pandas.core.frame.DataFrame'>\n",
      "Int64Index: 248 entries, 0 to 247\n",
      "Data columns (total 29 columns):\n",
      "Country Name      248 non-null object\n",
      "Country Code      248 non-null object\n",
      "Indicator Name    248 non-null object\n",
      "Indicator Code    248 non-null object\n",
      "1990              235 non-null float64\n",
      "1991              209 non-null float64\n",
      "1992              232 non-null float64\n",
      "1993              235 non-null float64\n",
      "1994              235 non-null float64\n",
      "1995              235 non-null float64\n",
      "1996              235 non-null float64\n",
      "1997              235 non-null float64\n",
      "1998              235 non-null float64\n",
      "1999              235 non-null float64\n",
      "2000              241 non-null float64\n",
      "2001              237 non-null float64\n",
      "2002              237 non-null float64\n",
      "2003              237 non-null float64\n",
      "2004              237 non-null float64\n",
      "2005              241 non-null float64\n",
      "2006              239 non-null float64\n",
      "2007              239 non-null float64\n",
      "2008              239 non-null float64\n",
      "2009              239 non-null float64\n",
      "2010              241 non-null float64\n",
      "2011              239 non-null float64\n",
      "2012              239 non-null float64\n",
      "2013              239 non-null float64\n",
      "2015              236 non-null float64\n",
      "dtypes: float64(25), object(4)\n",
      "memory usage: 58.1+ KB\n"
     ]
    }
   ],
   "source": [
    "# Dropping null columns\n",
    "\n",
    "forest_cover.drop(forest_cover.columns[range(4,34)], 1, inplace=True)\n",
    "forest_cover.drop(['2014', 'Unnamed: 60'], 1, inplace=True)\n",
    "forest_cover.info()"
   ]
  },
  {
   "cell_type": "code",
   "execution_count": 20,
   "metadata": {
    "collapsed": false
   },
   "outputs": [
    {
     "data": {
      "text/html": [
       "<div>\n",
       "<table border=\"1\" class=\"dataframe\">\n",
       "  <thead>\n",
       "    <tr style=\"text-align: right;\">\n",
       "      <th></th>\n",
       "      <th>Country Name</th>\n",
       "      <th>Country Code</th>\n",
       "      <th>Indicator Name</th>\n",
       "      <th>Indicator Code</th>\n",
       "      <th>Year</th>\n",
       "      <th>ForestCoverPercent</th>\n",
       "    </tr>\n",
       "  </thead>\n",
       "  <tbody>\n",
       "    <tr>\n",
       "      <th>0</th>\n",
       "      <td>Aruba</td>\n",
       "      <td>ABW</td>\n",
       "      <td>Forest area (% of land area)</td>\n",
       "      <td>AG.LND.FRST.ZS</td>\n",
       "      <td>1990</td>\n",
       "      <td>0.000000</td>\n",
       "    </tr>\n",
       "    <tr>\n",
       "      <th>1</th>\n",
       "      <td>Andorra</td>\n",
       "      <td>AND</td>\n",
       "      <td>Forest area (% of land area)</td>\n",
       "      <td>AG.LND.FRST.ZS</td>\n",
       "      <td>1990</td>\n",
       "      <td>34.042553</td>\n",
       "    </tr>\n",
       "    <tr>\n",
       "      <th>2</th>\n",
       "      <td>Afghanistan</td>\n",
       "      <td>AFG</td>\n",
       "      <td>Forest area (% of land area)</td>\n",
       "      <td>AG.LND.FRST.ZS</td>\n",
       "      <td>1990</td>\n",
       "      <td>2.067825</td>\n",
       "    </tr>\n",
       "    <tr>\n",
       "      <th>3</th>\n",
       "      <td>Angola</td>\n",
       "      <td>AGO</td>\n",
       "      <td>Forest area (% of land area)</td>\n",
       "      <td>AG.LND.FRST.ZS</td>\n",
       "      <td>1990</td>\n",
       "      <td>48.909922</td>\n",
       "    </tr>\n",
       "    <tr>\n",
       "      <th>4</th>\n",
       "      <td>Albania</td>\n",
       "      <td>ALB</td>\n",
       "      <td>Forest area (% of land area)</td>\n",
       "      <td>AG.LND.FRST.ZS</td>\n",
       "      <td>1990</td>\n",
       "      <td>28.795620</td>\n",
       "    </tr>\n",
       "  </tbody>\n",
       "</table>\n",
       "</div>"
      ],
      "text/plain": [
       "  Country Name Country Code                Indicator Name  Indicator Code  \\\n",
       "0        Aruba          ABW  Forest area (% of land area)  AG.LND.FRST.ZS   \n",
       "1      Andorra          AND  Forest area (% of land area)  AG.LND.FRST.ZS   \n",
       "2  Afghanistan          AFG  Forest area (% of land area)  AG.LND.FRST.ZS   \n",
       "3       Angola          AGO  Forest area (% of land area)  AG.LND.FRST.ZS   \n",
       "4      Albania          ALB  Forest area (% of land area)  AG.LND.FRST.ZS   \n",
       "\n",
       "   Year  ForestCoverPercent  \n",
       "0  1990            0.000000  \n",
       "1  1990           34.042553  \n",
       "2  1990            2.067825  \n",
       "3  1990           48.909922  \n",
       "4  1990           28.795620  "
      ]
     },
     "execution_count": 20,
     "metadata": {},
     "output_type": "execute_result"
    }
   ],
   "source": [
    "# modifying the frame: folding year value into a column \n",
    "\n",
    "forest_cover = pd.melt(forest_cover, id_vars=['Country Name', 'Country Code', 'Indicator Name', 'Indicator Code'], var_name='Year', value_name='ForestCoverPercent')\n",
    "forest_cover.head()"
   ]
  },
  {
   "cell_type": "code",
   "execution_count": 21,
   "metadata": {
    "collapsed": false
   },
   "outputs": [
    {
     "name": "stdout",
     "output_type": "stream",
     "text": [
      "<class 'pandas.core.frame.DataFrame'>\n",
      "Int64Index: 5901 entries, 0 to 6199\n",
      "Data columns (total 6 columns):\n",
      "Country Name          5901 non-null object\n",
      "Country Code          5901 non-null object\n",
      "Indicator Name        5901 non-null object\n",
      "Indicator Code        5901 non-null object\n",
      "Year                  5901 non-null object\n",
      "ForestCoverPercent    5901 non-null float64\n",
      "dtypes: float64(1), object(5)\n",
      "memory usage: 322.7+ KB\n"
     ]
    }
   ],
   "source": [
    "#drop na values\n",
    "\n",
    "forest_cover.dropna(inplace = True)\n",
    "forest_cover.info()"
   ]
  },
  {
   "cell_type": "code",
   "execution_count": 22,
   "metadata": {
    "collapsed": false
   },
   "outputs": [
    {
     "data": {
      "text/html": [
       "<div>\n",
       "<table border=\"1\" class=\"dataframe\">\n",
       "  <thead>\n",
       "    <tr style=\"text-align: right;\">\n",
       "      <th></th>\n",
       "      <th>Country Name</th>\n",
       "      <th>Country Code</th>\n",
       "      <th>Indicator Name</th>\n",
       "      <th>Indicator Code</th>\n",
       "      <th>Year</th>\n",
       "      <th>ForestCoverPercent</th>\n",
       "    </tr>\n",
       "  </thead>\n",
       "  <tbody>\n",
       "    <tr>\n",
       "      <th>30</th>\n",
       "      <td>Bhutan</td>\n",
       "      <td>BTN</td>\n",
       "      <td>Forest area (% of land area)</td>\n",
       "      <td>AG.LND.FRST.ZS</td>\n",
       "      <td>1990</td>\n",
       "      <td>53.656657</td>\n",
       "    </tr>\n",
       "    <tr>\n",
       "      <th>278</th>\n",
       "      <td>Bhutan</td>\n",
       "      <td>BTN</td>\n",
       "      <td>Forest area (% of land area)</td>\n",
       "      <td>AG.LND.FRST.ZS</td>\n",
       "      <td>1991</td>\n",
       "      <td>53.862980</td>\n",
       "    </tr>\n",
       "    <tr>\n",
       "      <th>526</th>\n",
       "      <td>Bhutan</td>\n",
       "      <td>BTN</td>\n",
       "      <td>Forest area (% of land area)</td>\n",
       "      <td>AG.LND.FRST.ZS</td>\n",
       "      <td>1992</td>\n",
       "      <td>54.075509</td>\n",
       "    </tr>\n",
       "    <tr>\n",
       "      <th>774</th>\n",
       "      <td>Bhutan</td>\n",
       "      <td>BTN</td>\n",
       "      <td>Forest area (% of land area)</td>\n",
       "      <td>AG.LND.FRST.ZS</td>\n",
       "      <td>1993</td>\n",
       "      <td>54.288038</td>\n",
       "    </tr>\n",
       "    <tr>\n",
       "      <th>1022</th>\n",
       "      <td>Bhutan</td>\n",
       "      <td>BTN</td>\n",
       "      <td>Forest area (% of land area)</td>\n",
       "      <td>AG.LND.FRST.ZS</td>\n",
       "      <td>1994</td>\n",
       "      <td>63.980653</td>\n",
       "    </tr>\n",
       "  </tbody>\n",
       "</table>\n",
       "</div>"
      ],
      "text/plain": [
       "     Country Name Country Code                Indicator Name  Indicator Code  \\\n",
       "30         Bhutan          BTN  Forest area (% of land area)  AG.LND.FRST.ZS   \n",
       "278        Bhutan          BTN  Forest area (% of land area)  AG.LND.FRST.ZS   \n",
       "526        Bhutan          BTN  Forest area (% of land area)  AG.LND.FRST.ZS   \n",
       "774        Bhutan          BTN  Forest area (% of land area)  AG.LND.FRST.ZS   \n",
       "1022       Bhutan          BTN  Forest area (% of land area)  AG.LND.FRST.ZS   \n",
       "\n",
       "      Year  ForestCoverPercent  \n",
       "30    1990           53.656657  \n",
       "278   1991           53.862980  \n",
       "526   1992           54.075509  \n",
       "774   1993           54.288038  \n",
       "1022  1994           63.980653  "
      ]
     },
     "execution_count": 22,
     "metadata": {},
     "output_type": "execute_result"
    }
   ],
   "source": [
    "# Extracting Bhutan's forest % distribution\n",
    "\n",
    "bhutan_forest_cover = forest_cover[forest_cover['Country Name'] == 'Bhutan']\n",
    "bhutan_forest_cover.head()"
   ]
  },
  {
   "cell_type": "code",
   "execution_count": 23,
   "metadata": {
    "collapsed": false
   },
   "outputs": [
    {
     "data": {
      "text/html": [
       "<div>\n",
       "<table border=\"1\" class=\"dataframe\">\n",
       "  <thead>\n",
       "    <tr style=\"text-align: right;\">\n",
       "      <th></th>\n",
       "      <th>Country Name</th>\n",
       "      <th>Country Code</th>\n",
       "      <th>Indicator Name</th>\n",
       "      <th>Indicator Code</th>\n",
       "      <th>Year</th>\n",
       "      <th>ForestCoverPercent</th>\n",
       "    </tr>\n",
       "  </thead>\n",
       "  <tbody>\n",
       "    <tr>\n",
       "      <th>233</th>\n",
       "      <td>United States</td>\n",
       "      <td>USA</td>\n",
       "      <td>Forest area (% of land area)</td>\n",
       "      <td>AG.LND.FRST.ZS</td>\n",
       "      <td>1990</td>\n",
       "      <td>33.022308</td>\n",
       "    </tr>\n",
       "    <tr>\n",
       "      <th>481</th>\n",
       "      <td>United States</td>\n",
       "      <td>USA</td>\n",
       "      <td>Forest area (% of land area)</td>\n",
       "      <td>AG.LND.FRST.ZS</td>\n",
       "      <td>1991</td>\n",
       "      <td>33.034165</td>\n",
       "    </tr>\n",
       "    <tr>\n",
       "      <th>729</th>\n",
       "      <td>United States</td>\n",
       "      <td>USA</td>\n",
       "      <td>Forest area (% of land area)</td>\n",
       "      <td>AG.LND.FRST.ZS</td>\n",
       "      <td>1992</td>\n",
       "      <td>33.046023</td>\n",
       "    </tr>\n",
       "    <tr>\n",
       "      <th>977</th>\n",
       "      <td>United States</td>\n",
       "      <td>USA</td>\n",
       "      <td>Forest area (% of land area)</td>\n",
       "      <td>AG.LND.FRST.ZS</td>\n",
       "      <td>1993</td>\n",
       "      <td>33.057880</td>\n",
       "    </tr>\n",
       "    <tr>\n",
       "      <th>1225</th>\n",
       "      <td>United States</td>\n",
       "      <td>USA</td>\n",
       "      <td>Forest area (% of land area)</td>\n",
       "      <td>AG.LND.FRST.ZS</td>\n",
       "      <td>1994</td>\n",
       "      <td>33.069737</td>\n",
       "    </tr>\n",
       "  </tbody>\n",
       "</table>\n",
       "</div>"
      ],
      "text/plain": [
       "       Country Name Country Code                Indicator Name  \\\n",
       "233   United States          USA  Forest area (% of land area)   \n",
       "481   United States          USA  Forest area (% of land area)   \n",
       "729   United States          USA  Forest area (% of land area)   \n",
       "977   United States          USA  Forest area (% of land area)   \n",
       "1225  United States          USA  Forest area (% of land area)   \n",
       "\n",
       "      Indicator Code  Year  ForestCoverPercent  \n",
       "233   AG.LND.FRST.ZS  1990           33.022308  \n",
       "481   AG.LND.FRST.ZS  1991           33.034165  \n",
       "729   AG.LND.FRST.ZS  1992           33.046023  \n",
       "977   AG.LND.FRST.ZS  1993           33.057880  \n",
       "1225  AG.LND.FRST.ZS  1994           33.069737  "
      ]
     },
     "execution_count": 23,
     "metadata": {},
     "output_type": "execute_result"
    }
   ],
   "source": [
    "# Extracting USA's forest cover percentage\n",
    "\n",
    "usa_forest_cover = forest_cover[forest_cover['Country Name'] == 'United States']\n",
    "usa_forest_cover.head()"
   ]
  },
  {
   "cell_type": "code",
   "execution_count": 24,
   "metadata": {
    "collapsed": false
   },
   "outputs": [
    {
     "data": {
      "text/plain": [
       "<matplotlib.text.Text at 0x11fb45090>"
      ]
     },
     "execution_count": 24,
     "metadata": {},
     "output_type": "execute_result"
    },
    {
     "data": {
      "image/png": "[encoded data removed]",
      "text/plain": [
       "<matplotlib.figure.Figure at 0x11f95fb50>"
      ]
     },
     "metadata": {},
     "output_type": "display_data"
    }
   ],
   "source": [
    "# Plotting distribution of Bhutan's forest cover\n",
    "\n",
    "fig = plt.figure()\n",
    "ax = fig.add_subplot(211)\n",
    "ax.plot(bhutan_forest_cover['Year'], bhutan_forest_cover['ForestCoverPercent'], color = \"Green\", label=\"Bhutan\")\n",
    "ax.legend(loc=\"lower right\")\n",
    "#ax.set_title(\"Bhutan's Forest Cover\")\n",
    "#ax.set_xlabel(\"Year\")\n",
    "ax.set_ylabel(\"% of forest land\")\n",
    "# Plotting distribution of USA's forest cover\n",
    "ax = fig.add_subplot(212)\n",
    "ax.plot(usa_forest_cover['Year'], usa_forest_cover['ForestCoverPercent'], color = \"Brown\", label=\"USA\")\n",
    "ax.legend(loc=\"lower right\")\n",
    "#ax.set_title(\"USA's Forest Cover\")\n",
    "ax.set_xlabel(\"Years\")\n",
    "ax.set_ylabel(\"% of forest land\")"
   ]
  },
  {
   "cell_type": "code",
   "execution_count": 25,
   "metadata": {
    "collapsed": false
   },
   "outputs": [],
   "source": [
    "fig.savefig(\"individual_forest_cover.png\")"
   ]
  },
  {
   "cell_type": "code",
   "execution_count": 26,
   "metadata": {
    "collapsed": false
   },
   "outputs": [
    {
     "data": {
      "text/plain": [
       "<matplotlib.legend.Legend at 0x11fe71e90>"
      ]
     },
     "execution_count": 26,
     "metadata": {},
     "output_type": "execute_result"
    },
    {
     "data": {
      "image/png": "[encoded data removed]",
      "text/plain": [
       "<matplotlib.figure.Figure at 0x11f95f810>"
      ]
     },
     "metadata": {},
     "output_type": "display_data"
    }
   ],
   "source": [
    "# Plotting distribution of Bhutan's and USA's forest cover under the same scale\n",
    "\n",
    "fig = plt.figure()\n",
    "ax = fig.add_subplot(111)\n",
    "ax.plot(bhutan_forest_cover['Year'], bhutan_forest_cover['ForestCoverPercent'], color = \"Green\", label=\"Bhutan\")\n",
    "#ax.set_title(\"Bhutan's Forest Cover\")\n",
    "#ax.set_xlabel(\"Year\")\n",
    "ax.set_ylabel(\"% of forest land\")\n",
    "# Plotting distribution of USA's forest cover\n",
    "\n",
    "ax = fig.add_subplot(111)\n",
    "ax.plot(usa_forest_cover['Year'], usa_forest_cover['ForestCoverPercent'], color = \"Brown\", label=\"USA\")\n",
    "ax.set_title(\"USA's Forest Cover\")\n",
    "ax.set_xlabel(\"Years\")\n",
    "ax.set_ylabel(\"% of forest land\")\n",
    "ax.legend(loc=\"upper left\")"
   ]
  },
  {
   "cell_type": "code",
   "execution_count": 27,
   "metadata": {
    "collapsed": true
   },
   "outputs": [],
   "source": [
    "fig.savefig(\"samescale_forest_cover.png\")"
   ]
  },
  {
   "cell_type": "markdown",
   "metadata": {
    "collapsed": true
   },
   "source": [
    "# Global Surface Temperature country wise"
   ]
  },
  {
   "cell_type": "code",
   "execution_count": 28,
   "metadata": {
    "collapsed": false
   },
   "outputs": [],
   "source": [
    "# Reading the file\n",
    "global_temp = pd.read_csv(\"GlobalLandTemperaturesByCountry.csv\")"
   ]
  },
  {
   "cell_type": "code",
   "execution_count": 29,
   "metadata": {
    "collapsed": false
   },
   "outputs": [
    {
     "data": {
      "text/html": [
       "<div>\n",
       "<table border=\"1\" class=\"dataframe\">\n",
       "  <thead>\n",
       "    <tr style=\"text-align: right;\">\n",
       "      <th></th>\n",
       "      <th>dt</th>\n",
       "      <th>AverageTemperature</th>\n",
       "      <th>AverageTemperatureUncertainty</th>\n",
       "      <th>Country</th>\n",
       "    </tr>\n",
       "  </thead>\n",
       "  <tbody>\n",
       "    <tr>\n",
       "      <th>0</th>\n",
       "      <td>1743-11-01</td>\n",
       "      <td>4.384</td>\n",
       "      <td>2.294</td>\n",
       "      <td>Åland</td>\n",
       "    </tr>\n",
       "    <tr>\n",
       "      <th>1</th>\n",
       "      <td>1743-12-01</td>\n",
       "      <td>NaN</td>\n",
       "      <td>NaN</td>\n",
       "      <td>Åland</td>\n",
       "    </tr>\n",
       "    <tr>\n",
       "      <th>2</th>\n",
       "      <td>1744-01-01</td>\n",
       "      <td>NaN</td>\n",
       "      <td>NaN</td>\n",
       "      <td>Åland</td>\n",
       "    </tr>\n",
       "    <tr>\n",
       "      <th>3</th>\n",
       "      <td>1744-02-01</td>\n",
       "      <td>NaN</td>\n",
       "      <td>NaN</td>\n",
       "      <td>Åland</td>\n",
       "    </tr>\n",
       "    <tr>\n",
       "      <th>4</th>\n",
       "      <td>1744-03-01</td>\n",
       "      <td>NaN</td>\n",
       "      <td>NaN</td>\n",
       "      <td>Åland</td>\n",
       "    </tr>\n",
       "  </tbody>\n",
       "</table>\n",
       "</div>"
      ],
      "text/plain": [
       "           dt  AverageTemperature  AverageTemperatureUncertainty Country\n",
       "0  1743-11-01               4.384                          2.294   Åland\n",
       "1  1743-12-01                 NaN                            NaN   Åland\n",
       "2  1744-01-01                 NaN                            NaN   Åland\n",
       "3  1744-02-01                 NaN                            NaN   Åland\n",
       "4  1744-03-01                 NaN                            NaN   Åland"
      ]
     },
     "execution_count": 29,
     "metadata": {},
     "output_type": "execute_result"
    }
   ],
   "source": [
    "#reading global surface land temperature\n",
    "global_temp.head()"
   ]
  },
  {
   "cell_type": "code",
   "execution_count": 30,
   "metadata": {
    "collapsed": false
   },
   "outputs": [
    {
     "data": {
      "text/html": [
       "<div>\n",
       "<table border=\"1\" class=\"dataframe\">\n",
       "  <thead>\n",
       "    <tr style=\"text-align: right;\">\n",
       "      <th></th>\n",
       "      <th>dt</th>\n",
       "      <th>AverageTemperature</th>\n",
       "      <th>AverageTemperatureUncertainty</th>\n",
       "      <th>Country</th>\n",
       "    </tr>\n",
       "  </thead>\n",
       "  <tbody>\n",
       "    <tr>\n",
       "      <th>0</th>\n",
       "      <td>1743-11-01</td>\n",
       "      <td>4.384</td>\n",
       "      <td>2.294</td>\n",
       "      <td>Åland</td>\n",
       "    </tr>\n",
       "    <tr>\n",
       "      <th>5</th>\n",
       "      <td>1744-04-01</td>\n",
       "      <td>1.530</td>\n",
       "      <td>4.680</td>\n",
       "      <td>Åland</td>\n",
       "    </tr>\n",
       "    <tr>\n",
       "      <th>6</th>\n",
       "      <td>1744-05-01</td>\n",
       "      <td>6.702</td>\n",
       "      <td>1.789</td>\n",
       "      <td>Åland</td>\n",
       "    </tr>\n",
       "    <tr>\n",
       "      <th>7</th>\n",
       "      <td>1744-06-01</td>\n",
       "      <td>11.609</td>\n",
       "      <td>1.577</td>\n",
       "      <td>Åland</td>\n",
       "    </tr>\n",
       "    <tr>\n",
       "      <th>8</th>\n",
       "      <td>1744-07-01</td>\n",
       "      <td>15.342</td>\n",
       "      <td>1.410</td>\n",
       "      <td>Åland</td>\n",
       "    </tr>\n",
       "  </tbody>\n",
       "</table>\n",
       "</div>"
      ],
      "text/plain": [
       "           dt  AverageTemperature  AverageTemperatureUncertainty Country\n",
       "0  1743-11-01               4.384                          2.294   Åland\n",
       "5  1744-04-01               1.530                          4.680   Åland\n",
       "6  1744-05-01               6.702                          1.789   Åland\n",
       "7  1744-06-01              11.609                          1.577   Åland\n",
       "8  1744-07-01              15.342                          1.410   Åland"
      ]
     },
     "execution_count": 30,
     "metadata": {},
     "output_type": "execute_result"
    }
   ],
   "source": [
    "# dropping NaN values\n",
    "global_monthly_temp = global_temp.dropna()\n",
    "global_monthly_temp.head()"
   ]
  },
  {
   "cell_type": "code",
   "execution_count": 32,
   "metadata": {
    "collapsed": false
   },
   "outputs": [
    {
     "name": "stderr",
     "output_type": "stream",
     "text": [
      "/anaconda/lib/python2.7/site-packages/ipykernel/__main__.py:2: SettingWithCopyWarning: \n",
      "A value is trying to be set on a copy of a slice from a DataFrame.\n",
      "Try using .loc[row_indexer,col_indexer] = value instead\n",
      "\n",
      "See the caveats in the documentation: http://pandas.pydata.org/pandas-docs/stable/indexing.html#indexing-view-versus-copy\n",
      "  from ipykernel import kernelapp as app\n"
     ]
    },
    {
     "data": {
      "text/html": [
       "<div>\n",
       "<table border=\"1\" class=\"dataframe\">\n",
       "  <thead>\n",
       "    <tr style=\"text-align: right;\">\n",
       "      <th></th>\n",
       "      <th>dt</th>\n",
       "      <th>AverageTemperature</th>\n",
       "      <th>AverageTemperatureUncertainty</th>\n",
       "      <th>Country</th>\n",
       "    </tr>\n",
       "  </thead>\n",
       "  <tbody>\n",
       "    <tr>\n",
       "      <th>0</th>\n",
       "      <td>1743-11-01 00:00:00</td>\n",
       "      <td>4.384</td>\n",
       "      <td>2.294</td>\n",
       "      <td>Åland</td>\n",
       "    </tr>\n",
       "    <tr>\n",
       "      <th>5</th>\n",
       "      <td>1744-04-01 00:00:00</td>\n",
       "      <td>1.530</td>\n",
       "      <td>4.680</td>\n",
       "      <td>Åland</td>\n",
       "    </tr>\n",
       "    <tr>\n",
       "      <th>6</th>\n",
       "      <td>1744-05-01 00:00:00</td>\n",
       "      <td>6.702</td>\n",
       "      <td>1.789</td>\n",
       "      <td>Åland</td>\n",
       "    </tr>\n",
       "    <tr>\n",
       "      <th>7</th>\n",
       "      <td>1744-06-01 00:00:00</td>\n",
       "      <td>11.609</td>\n",
       "      <td>1.577</td>\n",
       "      <td>Åland</td>\n",
       "    </tr>\n",
       "    <tr>\n",
       "      <th>8</th>\n",
       "      <td>1744-07-01 00:00:00</td>\n",
       "      <td>15.342</td>\n",
       "      <td>1.410</td>\n",
       "      <td>Åland</td>\n",
       "    </tr>\n",
       "    <tr>\n",
       "      <th>10</th>\n",
       "      <td>1744-09-01 00:00:00</td>\n",
       "      <td>11.702</td>\n",
       "      <td>1.517</td>\n",
       "      <td>Åland</td>\n",
       "    </tr>\n",
       "    <tr>\n",
       "      <th>11</th>\n",
       "      <td>1744-10-01 00:00:00</td>\n",
       "      <td>5.477</td>\n",
       "      <td>1.862</td>\n",
       "      <td>Åland</td>\n",
       "    </tr>\n",
       "    <tr>\n",
       "      <th>12</th>\n",
       "      <td>1744-11-01 00:00:00</td>\n",
       "      <td>3.407</td>\n",
       "      <td>1.425</td>\n",
       "      <td>Åland</td>\n",
       "    </tr>\n",
       "    <tr>\n",
       "      <th>13</th>\n",
       "      <td>1744-12-01 00:00:00</td>\n",
       "      <td>-2.181</td>\n",
       "      <td>1.641</td>\n",
       "      <td>Åland</td>\n",
       "    </tr>\n",
       "    <tr>\n",
       "      <th>14</th>\n",
       "      <td>1745-01-01 00:00:00</td>\n",
       "      <td>-3.850</td>\n",
       "      <td>1.841</td>\n",
       "      <td>Åland</td>\n",
       "    </tr>\n",
       "  </tbody>\n",
       "</table>\n",
       "</div>"
      ],
      "text/plain": [
       "                    dt  AverageTemperature  AverageTemperatureUncertainty  \\\n",
       "0  1743-11-01 00:00:00               4.384                          2.294   \n",
       "5  1744-04-01 00:00:00               1.530                          4.680   \n",
       "6  1744-05-01 00:00:00               6.702                          1.789   \n",
       "7  1744-06-01 00:00:00              11.609                          1.577   \n",
       "8  1744-07-01 00:00:00              15.342                          1.410   \n",
       "10 1744-09-01 00:00:00              11.702                          1.517   \n",
       "11 1744-10-01 00:00:00               5.477                          1.862   \n",
       "12 1744-11-01 00:00:00               3.407                          1.425   \n",
       "13 1744-12-01 00:00:00              -2.181                          1.641   \n",
       "14 1745-01-01 00:00:00              -3.850                          1.841   \n",
       "\n",
       "   Country  \n",
       "0    Åland  \n",
       "5    Åland  \n",
       "6    Åland  \n",
       "7    Åland  \n",
       "8    Åland  \n",
       "10   Åland  \n",
       "11   Åland  \n",
       "12   Åland  \n",
       "13   Åland  \n",
       "14   Åland  "
      ]
     },
     "execution_count": 32,
     "metadata": {},
     "output_type": "execute_result"
    }
   ],
   "source": [
    "#converting string date to date format\n",
    "global_monthly_temp['dt'] = pd.to_datetime(global_monthly_temp['dt'], format=\"%Y-%m-%d\")\n",
    "global_monthly_temp.head(10)"
   ]
  },
  {
   "cell_type": "code",
   "execution_count": 6,
   "metadata": {
    "collapsed": false
   },
   "outputs": [
    {
     "name": "stderr",
     "output_type": "stream",
     "text": [
      "//anaconda/lib/python2.7/site-packages/pandas/core/indexing.py:266: SettingWithCopyWarning: \n",
      "A value is trying to be set on a copy of a slice from a DataFrame.\n",
      "Try using .loc[row_indexer,col_indexer] = value instead\n",
      "\n",
      "See the caveats in the documentation: http://pandas.pydata.org/pandas-docs/stable/indexing.html#indexing-view-versus-copy\n",
      "  self.obj[key] = _infer_fill_value(value)\n",
      "//anaconda/lib/python2.7/site-packages/pandas/core/indexing.py:426: SettingWithCopyWarning: \n",
      "A value is trying to be set on a copy of a slice from a DataFrame.\n",
      "Try using .loc[row_indexer,col_indexer] = value instead\n",
      "\n",
      "See the caveats in the documentation: http://pandas.pydata.org/pandas-docs/stable/indexing.html#indexing-view-versus-copy\n",
      "  self.obj[item] = s\n"
     ]
    }
   ],
   "source": [
    "#[x.date() for x in global_monthly_temp['dt']]\n",
    "global_monthly_temp.loc[:, 'Year'] = [x.year for x in global_monthly_temp['dt']]"
   ]
  },
  {
   "cell_type": "code",
   "execution_count": 7,
   "metadata": {
    "collapsed": false
   },
   "outputs": [
    {
     "data": {
      "text/html": [
       "<div>\n",
       "<table border=\"1\" class=\"dataframe\">\n",
       "  <thead>\n",
       "    <tr style=\"text-align: right;\">\n",
       "      <th></th>\n",
       "      <th>dt</th>\n",
       "      <th>AverageTemperature</th>\n",
       "      <th>AverageTemperatureUncertainty</th>\n",
       "      <th>Country</th>\n",
       "      <th>Year</th>\n",
       "    </tr>\n",
       "  </thead>\n",
       "  <tbody>\n",
       "    <tr>\n",
       "      <th>0</th>\n",
       "      <td>1743-11-01 00:00:00</td>\n",
       "      <td>4.384</td>\n",
       "      <td>2.294</td>\n",
       "      <td>Åland</td>\n",
       "      <td>1743</td>\n",
       "    </tr>\n",
       "    <tr>\n",
       "      <th>5</th>\n",
       "      <td>1744-04-01 00:00:00</td>\n",
       "      <td>1.530</td>\n",
       "      <td>4.680</td>\n",
       "      <td>Åland</td>\n",
       "      <td>1744</td>\n",
       "    </tr>\n",
       "    <tr>\n",
       "      <th>6</th>\n",
       "      <td>1744-05-01 00:00:00</td>\n",
       "      <td>6.702</td>\n",
       "      <td>1.789</td>\n",
       "      <td>Åland</td>\n",
       "      <td>1744</td>\n",
       "    </tr>\n",
       "    <tr>\n",
       "      <th>7</th>\n",
       "      <td>1744-06-01 00:00:00</td>\n",
       "      <td>11.609</td>\n",
       "      <td>1.577</td>\n",
       "      <td>Åland</td>\n",
       "      <td>1744</td>\n",
       "    </tr>\n",
       "    <tr>\n",
       "      <th>8</th>\n",
       "      <td>1744-07-01 00:00:00</td>\n",
       "      <td>15.342</td>\n",
       "      <td>1.410</td>\n",
       "      <td>Åland</td>\n",
       "      <td>1744</td>\n",
       "    </tr>\n",
       "  </tbody>\n",
       "</table>\n",
       "</div>"
      ],
      "text/plain": [
       "                   dt  AverageTemperature  AverageTemperatureUncertainty  \\\n",
       "0 1743-11-01 00:00:00               4.384                          2.294   \n",
       "5 1744-04-01 00:00:00               1.530                          4.680   \n",
       "6 1744-05-01 00:00:00               6.702                          1.789   \n",
       "7 1744-06-01 00:00:00              11.609                          1.577   \n",
       "8 1744-07-01 00:00:00              15.342                          1.410   \n",
       "\n",
       "  Country  Year  \n",
       "0   Åland  1743  \n",
       "5   Åland  1744  \n",
       "6   Åland  1744  \n",
       "7   Åland  1744  \n",
       "8   Åland  1744  "
      ]
     },
     "execution_count": 7,
     "metadata": {},
     "output_type": "execute_result"
    }
   ],
   "source": [
    "global_monthly_temp.head()"
   ]
  },
  {
   "cell_type": "code",
   "execution_count": 8,
   "metadata": {
    "collapsed": false
   },
   "outputs": [
    {
     "data": {
      "text/html": [
       "<div>\n",
       "<table border=\"1\" class=\"dataframe\">\n",
       "  <thead>\n",
       "    <tr style=\"text-align: right;\">\n",
       "      <th></th>\n",
       "      <th>dt</th>\n",
       "      <th>AverageTemperature</th>\n",
       "      <th>AverageTemperatureUncertainty</th>\n",
       "      <th>Country</th>\n",
       "      <th>Year</th>\n",
       "    </tr>\n",
       "  </thead>\n",
       "  <tbody>\n",
       "    <tr>\n",
       "      <th>554880</th>\n",
       "      <td>1768-09-01 00:00:00</td>\n",
       "      <td>15.420</td>\n",
       "      <td>2.880</td>\n",
       "      <td>United States</td>\n",
       "      <td>1768</td>\n",
       "    </tr>\n",
       "    <tr>\n",
       "      <th>554881</th>\n",
       "      <td>1768-10-01 00:00:00</td>\n",
       "      <td>8.162</td>\n",
       "      <td>3.386</td>\n",
       "      <td>United States</td>\n",
       "      <td>1768</td>\n",
       "    </tr>\n",
       "    <tr>\n",
       "      <th>554882</th>\n",
       "      <td>1768-11-01 00:00:00</td>\n",
       "      <td>1.591</td>\n",
       "      <td>3.783</td>\n",
       "      <td>United States</td>\n",
       "      <td>1768</td>\n",
       "    </tr>\n",
       "    <tr>\n",
       "      <th>554883</th>\n",
       "      <td>1768-12-01 00:00:00</td>\n",
       "      <td>-2.882</td>\n",
       "      <td>4.979</td>\n",
       "      <td>United States</td>\n",
       "      <td>1768</td>\n",
       "    </tr>\n",
       "    <tr>\n",
       "      <th>554884</th>\n",
       "      <td>1769-01-01 00:00:00</td>\n",
       "      <td>-3.952</td>\n",
       "      <td>4.856</td>\n",
       "      <td>United States</td>\n",
       "      <td>1769</td>\n",
       "    </tr>\n",
       "  </tbody>\n",
       "</table>\n",
       "</div>"
      ],
      "text/plain": [
       "                        dt  AverageTemperature  AverageTemperatureUncertainty  \\\n",
       "554880 1768-09-01 00:00:00              15.420                          2.880   \n",
       "554881 1768-10-01 00:00:00               8.162                          3.386   \n",
       "554882 1768-11-01 00:00:00               1.591                          3.783   \n",
       "554883 1768-12-01 00:00:00              -2.882                          4.979   \n",
       "554884 1769-01-01 00:00:00              -3.952                          4.856   \n",
       "\n",
       "              Country  Year  \n",
       "554880  United States  1768  \n",
       "554881  United States  1768  \n",
       "554882  United States  1768  \n",
       "554883  United States  1768  \n",
       "554884  United States  1769  "
      ]
     },
     "execution_count": 8,
     "metadata": {},
     "output_type": "execute_result"
    }
   ],
   "source": [
    "# Extracting United States's historical temperature change data\n",
    "bhutan_temp = global_monthly_temp[global_monthly_temp['Country' ] == 'United States']\n",
    "bhutan_temp.head()"
   ]
  },
  {
   "cell_type": "code",
   "execution_count": 10,
   "metadata": {
    "collapsed": false
   },
   "outputs": [
    {
     "data": {
      "text/plain": [
       "<matplotlib.collections.PathCollection at 0x123173490>"
      ]
     },
     "execution_count": 10,
     "metadata": {},
     "output_type": "execute_result"
    },
    {
     "data": {
      "image/png": "[encoded data removed]",
      "text/plain": [
       "<matplotlib.figure.Figure at 0x11fb01110>"
      ]
     },
     "metadata": {},
     "output_type": "display_data"
    }
   ],
   "source": [
    "fig = plt.figure()\n",
    "ax = fig.add_subplot(111)\n",
    "#ax.plot(bhutan_temp['dt'], bhutan_temp['AverageTemperature'])\n",
    "#ax.scatter(list(bhutan_temp['dt']), list(bhutan_temp['AverageTemperature']))\n",
    "#ax.hist(bhutan_temp['dt'], bhutan_temp['AverageTemperature'])\n",
    "plt.scatter(list(bhutan_temp['dt']), list(bhutan_temp['AverageTemperature']))"
   ]
  },
  {
   "cell_type": "markdown",
   "metadata": {
    "collapsed": true
   },
   "source": [
    "Take mean of the temperatures to see trending"
   ]
  },
  {
   "cell_type": "code",
   "execution_count": null,
   "metadata": {
    "collapsed": true
   },
   "outputs": [],
   "source": []
  }
 ],
 "metadata": {
  "kernelspec": {
   "display_name": "Python 2",
   "language": "python",
   "name": "python2"
  },
  "language_info": {
   "codemirror_mode": {
    "name": "ipython",
    "version": 2
   },
   "file_extension": ".py",
   "mimetype": "text/x-python",
   "name": "python",
   "nbconvert_exporter": "python",
   "pygments_lexer": "ipython2",
   "version": "2.7.11"
  }
 },
 "nbformat": 4,
 "nbformat_minor": 0
}
