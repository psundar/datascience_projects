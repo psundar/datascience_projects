{
 "cells": [
  {
   "cell_type": "code",
   "execution_count": 3,
   "metadata": {
    "collapsed": true
   },
   "outputs": [],
   "source": [
    "import pandas as pd\n",
    "import numpy as np"
   ]
  },
  {
   "cell_type": "code",
   "execution_count": 4,
   "metadata": {
    "collapsed": true
   },
   "outputs": [],
   "source": [
    "global_temp = pd.read_csv(\"GlobalLandTemperaturesByCountry.csv\")\n",
    "ghg_emissions = pd.read_csv(\"CAIT Country GHG Emissions.csv\", skiprows=2)"
   ]
  },
  {
   "cell_type": "code",
   "execution_count": 5,
   "metadata": {
    "collapsed": false
   },
   "outputs": [],
   "source": [
    "#help(pd.read_csv)"
   ]
  },
  {
   "cell_type": "code",
   "execution_count": 6,
   "metadata": {
    "collapsed": false
   },
   "outputs": [
    {
     "name": "stdout",
     "output_type": "stream",
     "text": [
      "<class 'pandas.core.frame.DataFrame'>\n",
      "Int64Index: 577462 entries, 0 to 577461\n",
      "Data columns (total 4 columns):\n",
      "dt                               577462 non-null object\n",
      "AverageTemperature               544811 non-null float64\n",
      "AverageTemperatureUncertainty    545550 non-null float64\n",
      "Country                          577462 non-null object\n",
      "dtypes: float64(2), object(2)\n",
      "memory usage: 22.0+ MB\n",
      "None\n",
      "<class 'pandas.core.frame.DataFrame'>\n",
      "Int64Index: 4324 entries, 0 to 4323\n",
      "Data columns (total 22 columns):\n",
      "Country                                                                 4324 non-null object\n",
      "Year                                                                    4324 non-null int64\n",
      "Total GHG Emissions Excluding Land-Use Change and Forestry (MtCO2e)     4304 non-null float64\n",
      "Total GHG Emissions Including Land-Use Change and Forestry (MtCO?e?)    4304 non-null float64\n",
      "Total CO2 (excluding Land-Use Change and Forestry) (MtCO2)              4304 non-null float64\n",
      "Total CH4 (MtCO2e)                                                      4220 non-null float64\n",
      "Total N2O (MtCO2e)                                                      4221 non-null float64\n",
      "Total F-Gas (MtCO2e)                                                    4324 non-null float64\n",
      "Total CO2 (including Land-Use Change and Forestry) (MtCO2)              4221 non-null float64\n",
      "Total CH4 (including Land-Use Change and Forestry) (MtCO2e)             4083 non-null float64\n",
      "Total N2O (including Land-Use Change and Forestry) (MtCO2e)             4083 non-null float64\n",
      "Energy (MtCO2e)                                                         3151 non-null float64\n",
      "Industrial Processes (MtCO2e)                                           4160 non-null float64\n",
      "Agriculture (MtCO2e)                                                    4221 non-null float64\n",
      "Waste (MtCO2e)                                                          4324 non-null float64\n",
      "Land-Use Change and Forestry (MtCO2)                                    4221 non-null float64\n",
      "Bunker Fuels (MtCO2)                                                    3151 non-null float64\n",
      "Electricity/Heat (MtCO2)                                                3151 non-null float64\n",
      "Manufacturing/Construction (MtCO2)                                      3151 non-null float64\n",
      "Transportation (MtCO2)                                                  3151 non-null float64\n",
      "Other Fuel Combustion (MtCO2e)                                          3151 non-null float64\n",
      "Fugitive Emissions (MtCO2e)                                             4260 non-null float64\n",
      "dtypes: float64(20), int64(1), object(1)\n",
      "memory usage: 777.0+ KB\n",
      "None\n"
     ]
    }
   ],
   "source": [
    "print global_temp.info()\n",
    "print ghg_emissions.info()"
   ]
  },
  {
   "cell_type": "code",
   "execution_count": 7,
   "metadata": {
    "collapsed": false
   },
   "outputs": [
    {
     "data": {
      "text/html": [
       "<div>\n",
       "<table border=\"1\" class=\"dataframe\">\n",
       "  <thead>\n",
       "    <tr style=\"text-align: right;\">\n",
       "      <th></th>\n",
       "      <th>Country</th>\n",
       "      <th>Year</th>\n",
       "      <th>Total GHG Emissions Excluding Land-Use Change and Forestry (MtCO2e)</th>\n",
       "      <th>Total GHG Emissions Including Land-Use Change and Forestry (MtCO?e?)</th>\n",
       "      <th>Total CO2 (excluding Land-Use Change and Forestry) (MtCO2)</th>\n",
       "      <th>Total CH4 (MtCO2e)</th>\n",
       "      <th>Total N2O (MtCO2e)</th>\n",
       "      <th>Total F-Gas (MtCO2e)</th>\n",
       "      <th>Total CO2 (including Land-Use Change and Forestry) (MtCO2)</th>\n",
       "      <th>Total CH4 (including Land-Use Change and Forestry) (MtCO2e)</th>\n",
       "      <th>...</th>\n",
       "      <th>Industrial Processes (MtCO2e)</th>\n",
       "      <th>Agriculture (MtCO2e)</th>\n",
       "      <th>Waste (MtCO2e)</th>\n",
       "      <th>Land-Use Change and Forestry (MtCO2)</th>\n",
       "      <th>Bunker Fuels (MtCO2)</th>\n",
       "      <th>Electricity/Heat (MtCO2)</th>\n",
       "      <th>Manufacturing/Construction (MtCO2)</th>\n",
       "      <th>Transportation (MtCO2)</th>\n",
       "      <th>Other Fuel Combustion (MtCO2e)</th>\n",
       "      <th>Fugitive Emissions (MtCO2e)</th>\n",
       "    </tr>\n",
       "  </thead>\n",
       "  <tbody>\n",
       "    <tr>\n",
       "      <th>0</th>\n",
       "      <td>Afghanistan</td>\n",
       "      <td>1990</td>\n",
       "      <td>15.296936</td>\n",
       "      <td>15.961186</td>\n",
       "      <td>2.9907</td>\n",
       "      <td>9.3098</td>\n",
       "      <td>2.9943</td>\n",
       "      <td>0.0022</td>\n",
       "      <td>3.654722</td>\n",
       "      <td>9.309911</td>\n",
       "      <td>...</td>\n",
       "      <td>0.0571</td>\n",
       "      <td>7.3512</td>\n",
       "      <td>4.0390</td>\n",
       "      <td>0.6643</td>\n",
       "      <td>NaN</td>\n",
       "      <td>NaN</td>\n",
       "      <td>NaN</td>\n",
       "      <td>NaN</td>\n",
       "      <td>NaN</td>\n",
       "      <td>1.2556</td>\n",
       "    </tr>\n",
       "    <tr>\n",
       "      <th>1</th>\n",
       "      <td>Afghanistan</td>\n",
       "      <td>1991</td>\n",
       "      <td>15.351448</td>\n",
       "      <td>15.351628</td>\n",
       "      <td>2.7412</td>\n",
       "      <td>9.5144</td>\n",
       "      <td>3.0922</td>\n",
       "      <td>0.0036</td>\n",
       "      <td>2.741202</td>\n",
       "      <td>9.514511</td>\n",
       "      <td>...</td>\n",
       "      <td>0.0586</td>\n",
       "      <td>7.6393</td>\n",
       "      <td>4.2200</td>\n",
       "      <td>0.0002</td>\n",
       "      <td>NaN</td>\n",
       "      <td>NaN</td>\n",
       "      <td>NaN</td>\n",
       "      <td>NaN</td>\n",
       "      <td>NaN</td>\n",
       "      <td>1.0226</td>\n",
       "    </tr>\n",
       "    <tr>\n",
       "      <th>2</th>\n",
       "      <td>Afghanistan</td>\n",
       "      <td>1992</td>\n",
       "      <td>14.051281</td>\n",
       "      <td>14.051461</td>\n",
       "      <td>1.4252</td>\n",
       "      <td>9.5697</td>\n",
       "      <td>3.0513</td>\n",
       "      <td>0.0050</td>\n",
       "      <td>1.425242</td>\n",
       "      <td>9.569811</td>\n",
       "      <td>...</td>\n",
       "      <td>0.0637</td>\n",
       "      <td>7.6392</td>\n",
       "      <td>4.4011</td>\n",
       "      <td>0.0002</td>\n",
       "      <td>NaN</td>\n",
       "      <td>NaN</td>\n",
       "      <td>NaN</td>\n",
       "      <td>NaN</td>\n",
       "      <td>NaN</td>\n",
       "      <td>0.6026</td>\n",
       "    </tr>\n",
       "    <tr>\n",
       "      <th>3</th>\n",
       "      <td>Afghanistan</td>\n",
       "      <td>1993</td>\n",
       "      <td>14.064868</td>\n",
       "      <td>14.065048</td>\n",
       "      <td>1.3520</td>\n",
       "      <td>9.6081</td>\n",
       "      <td>3.0983</td>\n",
       "      <td>0.0065</td>\n",
       "      <td>1.352016</td>\n",
       "      <td>9.608191</td>\n",
       "      <td>...</td>\n",
       "      <td>0.0651</td>\n",
       "      <td>7.7102</td>\n",
       "      <td>4.5822</td>\n",
       "      <td>0.0002</td>\n",
       "      <td>NaN</td>\n",
       "      <td>NaN</td>\n",
       "      <td>NaN</td>\n",
       "      <td>NaN</td>\n",
       "      <td>NaN</td>\n",
       "      <td>0.4140</td>\n",
       "    </tr>\n",
       "    <tr>\n",
       "      <th>4</th>\n",
       "      <td>Afghanistan</td>\n",
       "      <td>1994</td>\n",
       "      <td>14.022181</td>\n",
       "      <td>14.022361</td>\n",
       "      <td>1.2971</td>\n",
       "      <td>9.7873</td>\n",
       "      <td>2.9300</td>\n",
       "      <td>0.0079</td>\n",
       "      <td>1.297056</td>\n",
       "      <td>9.787361</td>\n",
       "      <td>...</td>\n",
       "      <td>0.0665</td>\n",
       "      <td>7.7066</td>\n",
       "      <td>4.7633</td>\n",
       "      <td>0.0002</td>\n",
       "      <td>NaN</td>\n",
       "      <td>NaN</td>\n",
       "      <td>NaN</td>\n",
       "      <td>NaN</td>\n",
       "      <td>NaN</td>\n",
       "      <td>0.2473</td>\n",
       "    </tr>\n",
       "  </tbody>\n",
       "</table>\n",
       "<p>5 rows × 22 columns</p>\n",
       "</div>"
      ],
      "text/plain": [
       "       Country  Year  \\\n",
       "0  Afghanistan  1990   \n",
       "1  Afghanistan  1991   \n",
       "2  Afghanistan  1992   \n",
       "3  Afghanistan  1993   \n",
       "4  Afghanistan  1994   \n",
       "\n",
       "   Total GHG Emissions Excluding Land-Use Change and Forestry (MtCO2e)  \\\n",
       "0                                          15.296936                     \n",
       "1                                          15.351448                     \n",
       "2                                          14.051281                     \n",
       "3                                          14.064868                     \n",
       "4                                          14.022181                     \n",
       "\n",
       "   Total GHG Emissions Including Land-Use Change and Forestry (MtCO?e?)  \\\n",
       "0                                          15.961186                      \n",
       "1                                          15.351628                      \n",
       "2                                          14.051461                      \n",
       "3                                          14.065048                      \n",
       "4                                          14.022361                      \n",
       "\n",
       "   Total CO2 (excluding Land-Use Change and Forestry) (MtCO2)  \\\n",
       "0                                             2.9907            \n",
       "1                                             2.7412            \n",
       "2                                             1.4252            \n",
       "3                                             1.3520            \n",
       "4                                             1.2971            \n",
       "\n",
       "   Total CH4 (MtCO2e)  Total N2O (MtCO2e)  Total F-Gas (MtCO2e)  \\\n",
       "0              9.3098              2.9943                0.0022   \n",
       "1              9.5144              3.0922                0.0036   \n",
       "2              9.5697              3.0513                0.0050   \n",
       "3              9.6081              3.0983                0.0065   \n",
       "4              9.7873              2.9300                0.0079   \n",
       "\n",
       "   Total CO2 (including Land-Use Change and Forestry) (MtCO2)  \\\n",
       "0                                           3.654722            \n",
       "1                                           2.741202            \n",
       "2                                           1.425242            \n",
       "3                                           1.352016            \n",
       "4                                           1.297056            \n",
       "\n",
       "   Total CH4 (including Land-Use Change and Forestry) (MtCO2e)  \\\n",
       "0                                           9.309911             \n",
       "1                                           9.514511             \n",
       "2                                           9.569811             \n",
       "3                                           9.608191             \n",
       "4                                           9.787361             \n",
       "\n",
       "              ...               Industrial Processes (MtCO2e)  \\\n",
       "0             ...                                      0.0571   \n",
       "1             ...                                      0.0586   \n",
       "2             ...                                      0.0637   \n",
       "3             ...                                      0.0651   \n",
       "4             ...                                      0.0665   \n",
       "\n",
       "   Agriculture (MtCO2e)  Waste (MtCO2e)  Land-Use Change and Forestry (MtCO2)  \\\n",
       "0                7.3512          4.0390                                0.6643   \n",
       "1                7.6393          4.2200                                0.0002   \n",
       "2                7.6392          4.4011                                0.0002   \n",
       "3                7.7102          4.5822                                0.0002   \n",
       "4                7.7066          4.7633                                0.0002   \n",
       "\n",
       "   Bunker Fuels (MtCO2)  Electricity/Heat (MtCO2)  \\\n",
       "0                   NaN                       NaN   \n",
       "1                   NaN                       NaN   \n",
       "2                   NaN                       NaN   \n",
       "3                   NaN                       NaN   \n",
       "4                   NaN                       NaN   \n",
       "\n",
       "   Manufacturing/Construction (MtCO2)  Transportation (MtCO2)  \\\n",
       "0                                 NaN                     NaN   \n",
       "1                                 NaN                     NaN   \n",
       "2                                 NaN                     NaN   \n",
       "3                                 NaN                     NaN   \n",
       "4                                 NaN                     NaN   \n",
       "\n",
       "   Other Fuel Combustion (MtCO2e)  Fugitive Emissions (MtCO2e)  \n",
       "0                             NaN                       1.2556  \n",
       "1                             NaN                       1.0226  \n",
       "2                             NaN                       0.6026  \n",
       "3                             NaN                       0.4140  \n",
       "4                             NaN                       0.2473  \n",
       "\n",
       "[5 rows x 22 columns]"
      ]
     },
     "execution_count": 7,
     "metadata": {},
     "output_type": "execute_result"
    }
   ],
   "source": [
    "ghg_emissions.head()"
   ]
  },
  {
   "cell_type": "code",
   "execution_count": 8,
   "metadata": {
    "collapsed": false
   },
   "outputs": [
    {
     "data": {
      "text/html": [
       "<div>\n",
       "<table border=\"1\" class=\"dataframe\">\n",
       "  <thead>\n",
       "    <tr style=\"text-align: right;\">\n",
       "      <th></th>\n",
       "      <th>dt</th>\n",
       "      <th>AverageTemperature</th>\n",
       "      <th>AverageTemperatureUncertainty</th>\n",
       "      <th>Country</th>\n",
       "    </tr>\n",
       "  </thead>\n",
       "  <tbody>\n",
       "    <tr>\n",
       "      <th>0</th>\n",
       "      <td>1743-11-01</td>\n",
       "      <td>4.384</td>\n",
       "      <td>2.294</td>\n",
       "      <td>Åland</td>\n",
       "    </tr>\n",
       "    <tr>\n",
       "      <th>1</th>\n",
       "      <td>1743-12-01</td>\n",
       "      <td>NaN</td>\n",
       "      <td>NaN</td>\n",
       "      <td>Åland</td>\n",
       "    </tr>\n",
       "    <tr>\n",
       "      <th>2</th>\n",
       "      <td>1744-01-01</td>\n",
       "      <td>NaN</td>\n",
       "      <td>NaN</td>\n",
       "      <td>Åland</td>\n",
       "    </tr>\n",
       "    <tr>\n",
       "      <th>3</th>\n",
       "      <td>1744-02-01</td>\n",
       "      <td>NaN</td>\n",
       "      <td>NaN</td>\n",
       "      <td>Åland</td>\n",
       "    </tr>\n",
       "    <tr>\n",
       "      <th>4</th>\n",
       "      <td>1744-03-01</td>\n",
       "      <td>NaN</td>\n",
       "      <td>NaN</td>\n",
       "      <td>Åland</td>\n",
       "    </tr>\n",
       "  </tbody>\n",
       "</table>\n",
       "</div>"
      ],
      "text/plain": [
       "           dt  AverageTemperature  AverageTemperatureUncertainty Country\n",
       "0  1743-11-01               4.384                          2.294   Åland\n",
       "1  1743-12-01                 NaN                            NaN   Åland\n",
       "2  1744-01-01                 NaN                            NaN   Åland\n",
       "3  1744-02-01                 NaN                            NaN   Åland\n",
       "4  1744-03-01                 NaN                            NaN   Åland"
      ]
     },
     "execution_count": 8,
     "metadata": {},
     "output_type": "execute_result"
    }
   ],
   "source": [
    "#reading global surface land temperature\n",
    "global_temp.head()"
   ]
  },
  {
   "cell_type": "code",
   "execution_count": 9,
   "metadata": {
    "collapsed": false
   },
   "outputs": [
    {
     "data": {
      "text/html": [
       "<div>\n",
       "<table border=\"1\" class=\"dataframe\">\n",
       "  <thead>\n",
       "    <tr style=\"text-align: right;\">\n",
       "      <th></th>\n",
       "      <th>dt</th>\n",
       "      <th>AverageTemperature</th>\n",
       "      <th>AverageTemperatureUncertainty</th>\n",
       "      <th>Country</th>\n",
       "    </tr>\n",
       "  </thead>\n",
       "  <tbody>\n",
       "    <tr>\n",
       "      <th>0</th>\n",
       "      <td>1743-11-01</td>\n",
       "      <td>4.384</td>\n",
       "      <td>2.294</td>\n",
       "      <td>Åland</td>\n",
       "    </tr>\n",
       "    <tr>\n",
       "      <th>5</th>\n",
       "      <td>1744-04-01</td>\n",
       "      <td>1.530</td>\n",
       "      <td>4.680</td>\n",
       "      <td>Åland</td>\n",
       "    </tr>\n",
       "    <tr>\n",
       "      <th>6</th>\n",
       "      <td>1744-05-01</td>\n",
       "      <td>6.702</td>\n",
       "      <td>1.789</td>\n",
       "      <td>Åland</td>\n",
       "    </tr>\n",
       "    <tr>\n",
       "      <th>7</th>\n",
       "      <td>1744-06-01</td>\n",
       "      <td>11.609</td>\n",
       "      <td>1.577</td>\n",
       "      <td>Åland</td>\n",
       "    </tr>\n",
       "    <tr>\n",
       "      <th>8</th>\n",
       "      <td>1744-07-01</td>\n",
       "      <td>15.342</td>\n",
       "      <td>1.410</td>\n",
       "      <td>Åland</td>\n",
       "    </tr>\n",
       "  </tbody>\n",
       "</table>\n",
       "</div>"
      ],
      "text/plain": [
       "           dt  AverageTemperature  AverageTemperatureUncertainty Country\n",
       "0  1743-11-01               4.384                          2.294   Åland\n",
       "5  1744-04-01               1.530                          4.680   Åland\n",
       "6  1744-05-01               6.702                          1.789   Åland\n",
       "7  1744-06-01              11.609                          1.577   Åland\n",
       "8  1744-07-01              15.342                          1.410   Åland"
      ]
     },
     "execution_count": 9,
     "metadata": {},
     "output_type": "execute_result"
    }
   ],
   "source": [
    "# dropping NaN values\n",
    "global_monthly_temp = global_temp.dropna()\n",
    "global_monthly_temp.head()"
   ]
  },
  {
   "cell_type": "code",
   "execution_count": 10,
   "metadata": {
    "collapsed": false
   },
   "outputs": [
    {
     "name": "stderr",
     "output_type": "stream",
     "text": [
      "/anaconda/lib/python2.7/site-packages/ipykernel/__main__.py:2: SettingWithCopyWarning: \n",
      "A value is trying to be set on a copy of a slice from a DataFrame.\n",
      "Try using .loc[row_indexer,col_indexer] = value instead\n",
      "\n",
      "See the caveats in the documentation: http://pandas.pydata.org/pandas-docs/stable/indexing.html#indexing-view-versus-copy\n",
      "  from ipykernel import kernelapp as app\n"
     ]
    }
   ],
   "source": [
    "#converting string date to date format\n",
    "global_monthly_temp['dt'] = pd.to_datetime(global_monthly_temp['dt'], format=\"%Y-%m-%d\")\n",
    "\n"
   ]
  },
  {
   "cell_type": "code",
   "execution_count": 11,
   "metadata": {
    "collapsed": false
   },
   "outputs": [
    {
     "name": "stderr",
     "output_type": "stream",
     "text": [
      "//anaconda/lib/python2.7/site-packages/pandas/core/indexing.py:266: SettingWithCopyWarning: \n",
      "A value is trying to be set on a copy of a slice from a DataFrame.\n",
      "Try using .loc[row_indexer,col_indexer] = value instead\n",
      "\n",
      "See the caveats in the documentation: http://pandas.pydata.org/pandas-docs/stable/indexing.html#indexing-view-versus-copy\n",
      "  self.obj[key] = _infer_fill_value(value)\n",
      "//anaconda/lib/python2.7/site-packages/pandas/core/indexing.py:426: SettingWithCopyWarning: \n",
      "A value is trying to be set on a copy of a slice from a DataFrame.\n",
      "Try using .loc[row_indexer,col_indexer] = value instead\n",
      "\n",
      "See the caveats in the documentation: http://pandas.pydata.org/pandas-docs/stable/indexing.html#indexing-view-versus-copy\n",
      "  self.obj[item] = s\n"
     ]
    }
   ],
   "source": [
    "#[x.date() for x in global_monthly_temp['dt']]\n",
    "global_monthly_temp.loc[:, 'Year'] = [x.year for x in global_monthly_temp['dt']]"
   ]
  },
  {
   "cell_type": "code",
   "execution_count": 12,
   "metadata": {
    "collapsed": false
   },
   "outputs": [
    {
     "data": {
      "text/html": [
       "<div>\n",
       "<table border=\"1\" class=\"dataframe\">\n",
       "  <thead>\n",
       "    <tr style=\"text-align: right;\">\n",
       "      <th></th>\n",
       "      <th>dt</th>\n",
       "      <th>AverageTemperature</th>\n",
       "      <th>AverageTemperatureUncertainty</th>\n",
       "      <th>Country</th>\n",
       "      <th>Year</th>\n",
       "    </tr>\n",
       "  </thead>\n",
       "  <tbody>\n",
       "    <tr>\n",
       "      <th>0</th>\n",
       "      <td>1743-11-01 00:00:00</td>\n",
       "      <td>4.384</td>\n",
       "      <td>2.294</td>\n",
       "      <td>Åland</td>\n",
       "      <td>1743</td>\n",
       "    </tr>\n",
       "    <tr>\n",
       "      <th>5</th>\n",
       "      <td>1744-04-01 00:00:00</td>\n",
       "      <td>1.530</td>\n",
       "      <td>4.680</td>\n",
       "      <td>Åland</td>\n",
       "      <td>1744</td>\n",
       "    </tr>\n",
       "    <tr>\n",
       "      <th>6</th>\n",
       "      <td>1744-05-01 00:00:00</td>\n",
       "      <td>6.702</td>\n",
       "      <td>1.789</td>\n",
       "      <td>Åland</td>\n",
       "      <td>1744</td>\n",
       "    </tr>\n",
       "    <tr>\n",
       "      <th>7</th>\n",
       "      <td>1744-06-01 00:00:00</td>\n",
       "      <td>11.609</td>\n",
       "      <td>1.577</td>\n",
       "      <td>Åland</td>\n",
       "      <td>1744</td>\n",
       "    </tr>\n",
       "    <tr>\n",
       "      <th>8</th>\n",
       "      <td>1744-07-01 00:00:00</td>\n",
       "      <td>15.342</td>\n",
       "      <td>1.410</td>\n",
       "      <td>Åland</td>\n",
       "      <td>1744</td>\n",
       "    </tr>\n",
       "  </tbody>\n",
       "</table>\n",
       "</div>"
      ],
      "text/plain": [
       "                   dt  AverageTemperature  AverageTemperatureUncertainty  \\\n",
       "0 1743-11-01 00:00:00               4.384                          2.294   \n",
       "5 1744-04-01 00:00:00               1.530                          4.680   \n",
       "6 1744-05-01 00:00:00               6.702                          1.789   \n",
       "7 1744-06-01 00:00:00              11.609                          1.577   \n",
       "8 1744-07-01 00:00:00              15.342                          1.410   \n",
       "\n",
       "  Country  Year  \n",
       "0   Åland  1743  \n",
       "5   Åland  1744  \n",
       "6   Åland  1744  \n",
       "7   Åland  1744  \n",
       "8   Åland  1744  "
      ]
     },
     "execution_count": 12,
     "metadata": {},
     "output_type": "execute_result"
    }
   ],
   "source": [
    "global_monthly_temp.head()"
   ]
  },
  {
   "cell_type": "code",
   "execution_count": 13,
   "metadata": {
    "collapsed": false
   },
   "outputs": [
    {
     "data": {
      "text/html": [
       "<div>\n",
       "<table border=\"1\" class=\"dataframe\">\n",
       "  <thead>\n",
       "    <tr style=\"text-align: right;\">\n",
       "      <th></th>\n",
       "      <th>dt</th>\n",
       "      <th>AverageTemperature</th>\n",
       "      <th>AverageTemperatureUncertainty</th>\n",
       "      <th>Country</th>\n",
       "      <th>Year</th>\n",
       "    </tr>\n",
       "  </thead>\n",
       "  <tbody>\n",
       "    <tr>\n",
       "      <th>65441</th>\n",
       "      <td>1816-03-01 00:00:00</td>\n",
       "      <td>8.826</td>\n",
       "      <td>2.254</td>\n",
       "      <td>Bhutan</td>\n",
       "      <td>1816</td>\n",
       "    </tr>\n",
       "    <tr>\n",
       "      <th>65442</th>\n",
       "      <td>1816-04-01 00:00:00</td>\n",
       "      <td>11.436</td>\n",
       "      <td>3.293</td>\n",
       "      <td>Bhutan</td>\n",
       "      <td>1816</td>\n",
       "    </tr>\n",
       "    <tr>\n",
       "      <th>65443</th>\n",
       "      <td>1816-05-01 00:00:00</td>\n",
       "      <td>15.063</td>\n",
       "      <td>2.123</td>\n",
       "      <td>Bhutan</td>\n",
       "      <td>1816</td>\n",
       "    </tr>\n",
       "    <tr>\n",
       "      <th>65444</th>\n",
       "      <td>1816-06-01 00:00:00</td>\n",
       "      <td>16.612</td>\n",
       "      <td>2.653</td>\n",
       "      <td>Bhutan</td>\n",
       "      <td>1816</td>\n",
       "    </tr>\n",
       "    <tr>\n",
       "      <th>65445</th>\n",
       "      <td>1816-07-01 00:00:00</td>\n",
       "      <td>16.283</td>\n",
       "      <td>1.296</td>\n",
       "      <td>Bhutan</td>\n",
       "      <td>1816</td>\n",
       "    </tr>\n",
       "  </tbody>\n",
       "</table>\n",
       "</div>"
      ],
      "text/plain": [
       "                       dt  AverageTemperature  AverageTemperatureUncertainty  \\\n",
       "65441 1816-03-01 00:00:00               8.826                          2.254   \n",
       "65442 1816-04-01 00:00:00              11.436                          3.293   \n",
       "65443 1816-05-01 00:00:00              15.063                          2.123   \n",
       "65444 1816-06-01 00:00:00              16.612                          2.653   \n",
       "65445 1816-07-01 00:00:00              16.283                          1.296   \n",
       "\n",
       "      Country  Year  \n",
       "65441  Bhutan  1816  \n",
       "65442  Bhutan  1816  \n",
       "65443  Bhutan  1816  \n",
       "65444  Bhutan  1816  \n",
       "65445  Bhutan  1816  "
      ]
     },
     "execution_count": 13,
     "metadata": {},
     "output_type": "execute_result"
    }
   ],
   "source": [
    "# Extracting bhutan's historical temperature change data\n",
    "bhutan_temp = global_monthly_temp[global_monthly_temp['Country' ] == 'Bhutan']\n",
    "bhutan_temp.head()"
   ]
  },
  {
   "cell_type": "code",
   "execution_count": 15,
   "metadata": {
    "collapsed": true
   },
   "outputs": [],
   "source": [
    "#importing visualization tool matplotlib\n",
    "import matplotlib.pyplot as plt\n",
    "%matplotlib inline"
   ]
  },
  {
   "cell_type": "code",
   "execution_count": 37,
   "metadata": {
    "collapsed": false
   },
   "outputs": [
    {
     "data": {
      "text/plain": [
       "<matplotlib.collections.PathCollection at 0x11d8a8190>"
      ]
     },
     "execution_count": 37,
     "metadata": {},
     "output_type": "execute_result"
    },
    {
     "data": {
      "image/png": "[encoded data removed]",
      "text/plain": [
       "<matplotlib.figure.Figure at 0x11a398b50>"
      ]
     },
     "metadata": {},
     "output_type": "display_data"
    }
   ],
   "source": [
    "fig = plt.figure()\n",
    "ax = fig.add_subplot(111)\n",
    "#ax.plot(bhutan_temp['dt'], bhutan_temp['AverageTemperature'])\n",
    "#ax.scatter(list(bhutan_temp['dt']), list(bhutan_temp['AverageTemperature']))\n",
    "#ax.hist(bhutan_temp['dt'], bhutan_temp['AverageTemperature'])\n",
    "plt.scatter(list(bhutan_temp['dt']), list(bhutan_temp['AverageTemperature']))"
   ]
  },
  {
   "cell_type": "code",
   "execution_count": 23,
   "metadata": {
    "collapsed": false
   },
   "outputs": [
    {
     "name": "stdout",
     "output_type": "stream",
     "text": [
      "Help on function to_datetime in module pandas.tseries.tools:\n",
      "\n",
      "to_datetime(*args, **kwargs)\n",
      "    Convert argument to datetime.\n",
      "    \n",
      "    Parameters\n",
      "    ----------\n",
      "    arg : string, datetime, array of strings (with possible NAs)\n",
      "    errors : {'ignore', 'raise', 'coerce'}, default 'raise'\n",
      "        - If 'raise', then invalid parsing will raise an exception\n",
      "        - If 'coerce', then invalid parsing will be set as NaT\n",
      "        - If 'ignore', then invalid parsing will return the input\n",
      "    dayfirst : boolean, default False\n",
      "        Specify a date parse order if `arg` is str or its list-likes.\n",
      "        If True, parses dates with the day first, eg 10/11/12 is parsed as 2012-11-10.\n",
      "        Warning: dayfirst=True is not strict, but will prefer to parse\n",
      "        with day first (this is a known bug, based on dateutil behavior).\n",
      "    yearfirst : boolean, default False\n",
      "        Specify a date parse order if `arg` is str or its list-likes.\n",
      "        - If True parses dates with the year first, eg 10/11/12 is parsed as 2010-11-12.\n",
      "        - If both dayfirst and yearfirst are True, yearfirst is preceded (same as dateutil).\n",
      "        Warning: yearfirst=True is not strict, but will prefer to parse\n",
      "        with year first (this is a known bug, based on dateutil beahavior).\n",
      "    \n",
      "        .. versionadded: 0.16.1\n",
      "    \n",
      "    utc : boolean, default None\n",
      "        Return UTC DatetimeIndex if True (converting any tz-aware\n",
      "        datetime.datetime objects as well).\n",
      "    box : boolean, default True\n",
      "        - If True returns a DatetimeIndex\n",
      "        - If False returns ndarray of values.\n",
      "    format : string, default None\n",
      "        strftime to parse time, eg \"%d/%m/%Y\", note that \"%f\" will parse\n",
      "        all the way up to nanoseconds.\n",
      "    exact : boolean, True by default\n",
      "        - If True, require an exact format match.\n",
      "        - If False, allow the format to match anywhere in the target string.\n",
      "    unit : unit of the arg (D,s,ms,us,ns) denote the unit in epoch\n",
      "        (e.g. a unix timestamp), which is an integer/float number.\n",
      "    infer_datetime_format : boolean, default False\n",
      "        If no `format` is given, try to infer the format based on the first\n",
      "        datetime string. Provides a large speed-up in many cases.\n",
      "    \n",
      "    Returns\n",
      "    -------\n",
      "    ret : datetime if parsing succeeded.\n",
      "        Return type depends on input:\n",
      "    \n",
      "        - list-like: DatetimeIndex\n",
      "        - Series: Series of datetime64 dtype\n",
      "        - scalar: Timestamp\n",
      "    \n",
      "        In case when it is not possible to return designated types (e.g. when\n",
      "        any element of input is before Timestamp.min or after Timestamp.max)\n",
      "        return will have datetime.datetime type (or correspoding array/Series).\n",
      "    \n",
      "    Examples\n",
      "    --------\n",
      "    Take separate series and convert to datetime\n",
      "    \n",
      "    >>> import pandas as pd\n",
      "    >>> i = pd.date_range('20000101',periods=100)\n",
      "    >>> df = pd.DataFrame(dict(year = i.year, month = i.month, day = i.day))\n",
      "    >>> pd.to_datetime(df.year*10000 + df.month*100 + df.day, format='%Y%m%d')\n",
      "    0    2000-01-01\n",
      "    1    2000-01-02\n",
      "    ...\n",
      "    98   2000-04-08\n",
      "    99   2000-04-09\n",
      "    Length: 100, dtype: datetime64[ns]\n",
      "    \n",
      "    Or from strings\n",
      "    \n",
      "    >>> df = df.astype(str)\n",
      "    >>> pd.to_datetime(df.day + df.month + df.year, format=\"%d%m%Y\")\n",
      "    0    2000-01-01\n",
      "    1    2000-01-02\n",
      "    ...\n",
      "    98   2000-04-08\n",
      "    99   2000-04-09\n",
      "    Length: 100, dtype: datetime64[ns]\n",
      "    \n",
      "    Date that does not meet timestamp limitations:\n",
      "    \n",
      "    >>> pd.to_datetime('13000101', format='%Y%m%d')\n",
      "    datetime.datetime(1300, 1, 1, 0, 0)\n",
      "    >>> pd.to_datetime('13000101', format='%Y%m%d', errors='coerce')\n",
      "    NaT\n",
      "\n"
     ]
    }
   ],
   "source": [
    "help(pd.to_datetime)"
   ]
  },
  {
   "cell_type": "code",
   "execution_count": 24,
   "metadata": {
    "collapsed": false
   },
   "outputs": [],
   "source": [
    "#World Bank GHG emissions Data\n",
    "\n",
    "ghg_emissions_wb = pd.read_csv(\"GHGEmissions_country.csv\", skiprows=4)"
   ]
  },
  {
   "cell_type": "code",
   "execution_count": 25,
   "metadata": {
    "collapsed": false
   },
   "outputs": [
    {
     "name": "stdout",
     "output_type": "stream",
     "text": [
      "<class 'pandas.core.frame.DataFrame'>\n",
      "Int64Index: 248 entries, 0 to 247\n",
      "Data columns (total 61 columns):\n",
      "Country Name      248 non-null object\n",
      "Country Code      248 non-null object\n",
      "Indicator Name    248 non-null object\n",
      "Indicator Code    248 non-null object\n",
      "1960              0 non-null float64\n",
      "1961              0 non-null float64\n",
      "1962              0 non-null float64\n",
      "1963              0 non-null float64\n",
      "1964              0 non-null float64\n",
      "1965              0 non-null float64\n",
      "1966              0 non-null float64\n",
      "1967              0 non-null float64\n",
      "1968              0 non-null float64\n",
      "1969              0 non-null float64\n",
      "1970              229 non-null float64\n",
      "1971              229 non-null float64\n",
      "1972              229 non-null float64\n",
      "1973              229 non-null float64\n",
      "1974              229 non-null float64\n",
      "1975              229 non-null float64\n",
      "1976              229 non-null float64\n",
      "1977              229 non-null float64\n",
      "1978              229 non-null float64\n",
      "1979              229 non-null float64\n",
      "1980              229 non-null float64\n",
      "1981              229 non-null float64\n",
      "1982              229 non-null float64\n",
      "1983              229 non-null float64\n",
      "1984              229 non-null float64\n",
      "1985              229 non-null float64\n",
      "1986              229 non-null float64\n",
      "1987              229 non-null float64\n",
      "1988              229 non-null float64\n",
      "1989              229 non-null float64\n",
      "1990              229 non-null float64\n",
      "1991              229 non-null float64\n",
      "1992              229 non-null float64\n",
      "1993              229 non-null float64\n",
      "1994              229 non-null float64\n",
      "1995              229 non-null float64\n",
      "1996              229 non-null float64\n",
      "1997              229 non-null float64\n",
      "1998              229 non-null float64\n",
      "1999              229 non-null float64\n",
      "2000              229 non-null float64\n",
      "2001              229 non-null float64\n",
      "2002              229 non-null float64\n",
      "2003              229 non-null float64\n",
      "2004              229 non-null float64\n",
      "2005              229 non-null float64\n",
      "2006              229 non-null float64\n",
      "2007              229 non-null float64\n",
      "2008              229 non-null float64\n",
      "2009              229 non-null float64\n",
      "2010              229 non-null float64\n",
      "2011              229 non-null float64\n",
      "2012              229 non-null float64\n",
      "2013              0 non-null float64\n",
      "2014              0 non-null float64\n",
      "2015              0 non-null float64\n",
      "Unnamed: 60       0 non-null float64\n",
      "dtypes: float64(57), object(4)\n",
      "memory usage: 120.1+ KB\n"
     ]
    }
   ],
   "source": [
    "ghg_emissions_wb.info()"
   ]
  },
  {
   "cell_type": "code",
   "execution_count": 26,
   "metadata": {
    "collapsed": true
   },
   "outputs": [],
   "source": [
    "#World bank c02 emissions\n",
    "co2_emissions_wb = pd.read_csv(\"Co2Emissions_country.csv\", skiprows=4)"
   ]
  },
  {
   "cell_type": "code",
   "execution_count": 27,
   "metadata": {
    "collapsed": false
   },
   "outputs": [
    {
     "name": "stdout",
     "output_type": "stream",
     "text": [
      "<class 'pandas.core.frame.DataFrame'>\n",
      "Int64Index: 248 entries, 0 to 247\n",
      "Data columns (total 61 columns):\n",
      "Country Name      248 non-null object\n",
      "Country Code      248 non-null object\n",
      "Indicator Name    248 non-null object\n",
      "Indicator Code    248 non-null object\n",
      "1960              178 non-null float64\n",
      "1961              179 non-null float64\n",
      "1962              180 non-null float64\n",
      "1963              181 non-null float64\n",
      "1964              186 non-null float64\n",
      "1965              186 non-null float64\n",
      "1966              186 non-null float64\n",
      "1967              186 non-null float64\n",
      "1968              185 non-null float64\n",
      "1969              186 non-null float64\n",
      "1970              188 non-null float64\n",
      "1971              189 non-null float64\n",
      "1972              192 non-null float64\n",
      "1973              192 non-null float64\n",
      "1974              192 non-null float64\n",
      "1975              192 non-null float64\n",
      "1976              192 non-null float64\n",
      "1977              192 non-null float64\n",
      "1978              192 non-null float64\n",
      "1979              192 non-null float64\n",
      "1980              192 non-null float64\n",
      "1981              192 non-null float64\n",
      "1982              192 non-null float64\n",
      "1983              192 non-null float64\n",
      "1984              192 non-null float64\n",
      "1985              192 non-null float64\n",
      "1986              193 non-null float64\n",
      "1987              193 non-null float64\n",
      "1988              193 non-null float64\n",
      "1989              193 non-null float64\n",
      "1990              195 non-null float64\n",
      "1991              196 non-null float64\n",
      "1992              219 non-null float64\n",
      "1993              219 non-null float64\n",
      "1994              220 non-null float64\n",
      "1995              223 non-null float64\n",
      "1996              222 non-null float64\n",
      "1997              224 non-null float64\n",
      "1998              226 non-null float64\n",
      "1999              226 non-null float64\n",
      "2000              227 non-null float64\n",
      "2001              227 non-null float64\n",
      "2002              228 non-null float64\n",
      "2003              228 non-null float64\n",
      "2004              228 non-null float64\n",
      "2005              230 non-null float64\n",
      "2006              231 non-null float64\n",
      "2007              232 non-null float64\n",
      "2008              232 non-null float64\n",
      "2009              232 non-null float64\n",
      "2010              232 non-null float64\n",
      "2011              232 non-null float64\n",
      "2012              0 non-null float64\n",
      "2013              0 non-null float64\n",
      "2014              0 non-null float64\n",
      "2015              0 non-null float64\n",
      "Unnamed: 60       0 non-null float64\n",
      "dtypes: float64(57), object(4)\n",
      "memory usage: 120.1+ KB\n"
     ]
    }
   ],
   "source": [
    "co2_emissions_wb.info()"
   ]
  },
  {
   "cell_type": "code",
   "execution_count": 28,
   "metadata": {
    "collapsed": false
   },
   "outputs": [],
   "source": [
    "#removing null columns\n",
    "co2_emissions_wb.drop('Unnamed: 60', 1, inplace=True)\n",
    "co2_emissions_wb.drop('2012', 1, inplace=True)\n",
    "co2_emissions_wb.drop('2013', 1, inplace=True)\n",
    "co2_emissions_wb.drop('2014', 1, inplace=True)\n",
    "co2_emissions_wb.drop('2015', 1, inplace=True)"
   ]
  },
  {
   "cell_type": "code",
   "execution_count": 29,
   "metadata": {
    "collapsed": false
   },
   "outputs": [
    {
     "name": "stdout",
     "output_type": "stream",
     "text": [
      "<class 'pandas.core.frame.DataFrame'>\n",
      "Int64Index: 248 entries, 0 to 247\n",
      "Data columns (total 56 columns):\n",
      "Country Name      248 non-null object\n",
      "Country Code      248 non-null object\n",
      "Indicator Name    248 non-null object\n",
      "Indicator Code    248 non-null object\n",
      "1960              178 non-null float64\n",
      "1961              179 non-null float64\n",
      "1962              180 non-null float64\n",
      "1963              181 non-null float64\n",
      "1964              186 non-null float64\n",
      "1965              186 non-null float64\n",
      "1966              186 non-null float64\n",
      "1967              186 non-null float64\n",
      "1968              185 non-null float64\n",
      "1969              186 non-null float64\n",
      "1970              188 non-null float64\n",
      "1971              189 non-null float64\n",
      "1972              192 non-null float64\n",
      "1973              192 non-null float64\n",
      "1974              192 non-null float64\n",
      "1975              192 non-null float64\n",
      "1976              192 non-null float64\n",
      "1977              192 non-null float64\n",
      "1978              192 non-null float64\n",
      "1979              192 non-null float64\n",
      "1980              192 non-null float64\n",
      "1981              192 non-null float64\n",
      "1982              192 non-null float64\n",
      "1983              192 non-null float64\n",
      "1984              192 non-null float64\n",
      "1985              192 non-null float64\n",
      "1986              193 non-null float64\n",
      "1987              193 non-null float64\n",
      "1988              193 non-null float64\n",
      "1989              193 non-null float64\n",
      "1990              195 non-null float64\n",
      "1991              196 non-null float64\n",
      "1992              219 non-null float64\n",
      "1993              219 non-null float64\n",
      "1994              220 non-null float64\n",
      "1995              223 non-null float64\n",
      "1996              222 non-null float64\n",
      "1997              224 non-null float64\n",
      "1998              226 non-null float64\n",
      "1999              226 non-null float64\n",
      "2000              227 non-null float64\n",
      "2001              227 non-null float64\n",
      "2002              228 non-null float64\n",
      "2003              228 non-null float64\n",
      "2004              228 non-null float64\n",
      "2005              230 non-null float64\n",
      "2006              231 non-null float64\n",
      "2007              232 non-null float64\n",
      "2008              232 non-null float64\n",
      "2009              232 non-null float64\n",
      "2010              232 non-null float64\n",
      "2011              232 non-null float64\n",
      "dtypes: float64(52), object(4)\n",
      "memory usage: 110.4+ KB\n"
     ]
    }
   ],
   "source": [
    "co2_emissions_wb.info()"
   ]
  },
  {
   "cell_type": "code",
   "execution_count": 30,
   "metadata": {
    "collapsed": false
   },
   "outputs": [
    {
     "data": {
      "text/html": [
       "<div>\n",
       "<table border=\"1\" class=\"dataframe\">\n",
       "  <thead>\n",
       "    <tr style=\"text-align: right;\">\n",
       "      <th></th>\n",
       "      <th>Country Name</th>\n",
       "      <th>Country Code</th>\n",
       "      <th>Indicator Name</th>\n",
       "      <th>Indicator Code</th>\n",
       "      <th>Year</th>\n",
       "      <th>Co2_emissions</th>\n",
       "    </tr>\n",
       "  </thead>\n",
       "  <tbody>\n",
       "    <tr>\n",
       "      <th>0</th>\n",
       "      <td>Aruba</td>\n",
       "      <td>ABW</td>\n",
       "      <td>CO2 emissions (metric tons per capita)</td>\n",
       "      <td>EN.ATM.CO2E.PC</td>\n",
       "      <td>1960</td>\n",
       "      <td>NaN</td>\n",
       "    </tr>\n",
       "    <tr>\n",
       "      <th>1</th>\n",
       "      <td>Andorra</td>\n",
       "      <td>AND</td>\n",
       "      <td>CO2 emissions (metric tons per capita)</td>\n",
       "      <td>EN.ATM.CO2E.PC</td>\n",
       "      <td>1960</td>\n",
       "      <td>NaN</td>\n",
       "    </tr>\n",
       "    <tr>\n",
       "      <th>2</th>\n",
       "      <td>Afghanistan</td>\n",
       "      <td>AFG</td>\n",
       "      <td>CO2 emissions (metric tons per capita)</td>\n",
       "      <td>EN.ATM.CO2E.PC</td>\n",
       "      <td>1960</td>\n",
       "      <td>0.046068</td>\n",
       "    </tr>\n",
       "    <tr>\n",
       "      <th>3</th>\n",
       "      <td>Angola</td>\n",
       "      <td>AGO</td>\n",
       "      <td>CO2 emissions (metric tons per capita)</td>\n",
       "      <td>EN.ATM.CO2E.PC</td>\n",
       "      <td>1960</td>\n",
       "      <td>0.104357</td>\n",
       "    </tr>\n",
       "    <tr>\n",
       "      <th>4</th>\n",
       "      <td>Albania</td>\n",
       "      <td>ALB</td>\n",
       "      <td>CO2 emissions (metric tons per capita)</td>\n",
       "      <td>EN.ATM.CO2E.PC</td>\n",
       "      <td>1960</td>\n",
       "      <td>1.258195</td>\n",
       "    </tr>\n",
       "  </tbody>\n",
       "</table>\n",
       "</div>"
      ],
      "text/plain": [
       "  Country Name Country Code                          Indicator Name  \\\n",
       "0        Aruba          ABW  CO2 emissions (metric tons per capita)   \n",
       "1      Andorra          AND  CO2 emissions (metric tons per capita)   \n",
       "2  Afghanistan          AFG  CO2 emissions (metric tons per capita)   \n",
       "3       Angola          AGO  CO2 emissions (metric tons per capita)   \n",
       "4      Albania          ALB  CO2 emissions (metric tons per capita)   \n",
       "\n",
       "   Indicator Code  Year  Co2_emissions  \n",
       "0  EN.ATM.CO2E.PC  1960            NaN  \n",
       "1  EN.ATM.CO2E.PC  1960            NaN  \n",
       "2  EN.ATM.CO2E.PC  1960       0.046068  \n",
       "3  EN.ATM.CO2E.PC  1960       0.104357  \n",
       "4  EN.ATM.CO2E.PC  1960       1.258195  "
      ]
     },
     "execution_count": 30,
     "metadata": {},
     "output_type": "execute_result"
    }
   ],
   "source": [
    "#togo_co2 = co2_emissions_wb[co2_emissions_wb['Country Name'] == 'Togo']\n",
    "#print togo_co2\n",
    "#type(togo_co2)\n",
    "country_wise_co2 = pd.melt(co2_emissions_wb,id_vars=['Country Name', 'Country Code', 'Indicator Name', 'Indicator Code'], var_name='Year', value_name='Co2_emissions')\n",
    "country_wise_co2.head()"
   ]
  },
  {
   "cell_type": "code",
   "execution_count": 32,
   "metadata": {
    "collapsed": false
   },
   "outputs": [
    {
     "data": {
      "text/html": [
       "<div>\n",
       "<table border=\"1\" class=\"dataframe\">\n",
       "  <thead>\n",
       "    <tr style=\"text-align: right;\">\n",
       "      <th></th>\n",
       "      <th>Country Name</th>\n",
       "      <th>Country Code</th>\n",
       "      <th>Indicator Name</th>\n",
       "      <th>Indicator Code</th>\n",
       "      <th>Year</th>\n",
       "      <th>Co2_emissions</th>\n",
       "    </tr>\n",
       "  </thead>\n",
       "  <tbody>\n",
       "    <tr>\n",
       "      <th>2</th>\n",
       "      <td>Afghanistan</td>\n",
       "      <td>AFG</td>\n",
       "      <td>CO2 emissions (metric tons per capita)</td>\n",
       "      <td>EN.ATM.CO2E.PC</td>\n",
       "      <td>1960</td>\n",
       "      <td>0.046068</td>\n",
       "    </tr>\n",
       "    <tr>\n",
       "      <th>3</th>\n",
       "      <td>Angola</td>\n",
       "      <td>AGO</td>\n",
       "      <td>CO2 emissions (metric tons per capita)</td>\n",
       "      <td>EN.ATM.CO2E.PC</td>\n",
       "      <td>1960</td>\n",
       "      <td>0.104357</td>\n",
       "    </tr>\n",
       "    <tr>\n",
       "      <th>4</th>\n",
       "      <td>Albania</td>\n",
       "      <td>ALB</td>\n",
       "      <td>CO2 emissions (metric tons per capita)</td>\n",
       "      <td>EN.ATM.CO2E.PC</td>\n",
       "      <td>1960</td>\n",
       "      <td>1.258195</td>\n",
       "    </tr>\n",
       "    <tr>\n",
       "      <th>5</th>\n",
       "      <td>Arab World</td>\n",
       "      <td>ARB</td>\n",
       "      <td>CO2 emissions (metric tons per capita)</td>\n",
       "      <td>EN.ATM.CO2E.PC</td>\n",
       "      <td>1960</td>\n",
       "      <td>0.643964</td>\n",
       "    </tr>\n",
       "    <tr>\n",
       "      <th>6</th>\n",
       "      <td>United Arab Emirates</td>\n",
       "      <td>ARE</td>\n",
       "      <td>CO2 emissions (metric tons per capita)</td>\n",
       "      <td>EN.ATM.CO2E.PC</td>\n",
       "      <td>1960</td>\n",
       "      <td>0.118786</td>\n",
       "    </tr>\n",
       "  </tbody>\n",
       "</table>\n",
       "</div>"
      ],
      "text/plain": [
       "           Country Name Country Code                          Indicator Name  \\\n",
       "2           Afghanistan          AFG  CO2 emissions (metric tons per capita)   \n",
       "3                Angola          AGO  CO2 emissions (metric tons per capita)   \n",
       "4               Albania          ALB  CO2 emissions (metric tons per capita)   \n",
       "5            Arab World          ARB  CO2 emissions (metric tons per capita)   \n",
       "6  United Arab Emirates          ARE  CO2 emissions (metric tons per capita)   \n",
       "\n",
       "   Indicator Code  Year  Co2_emissions  \n",
       "2  EN.ATM.CO2E.PC  1960       0.046068  \n",
       "3  EN.ATM.CO2E.PC  1960       0.104357  \n",
       "4  EN.ATM.CO2E.PC  1960       1.258195  \n",
       "5  EN.ATM.CO2E.PC  1960       0.643964  \n",
       "6  EN.ATM.CO2E.PC  1960       0.118786  "
      ]
     },
     "execution_count": 32,
     "metadata": {},
     "output_type": "execute_result"
    }
   ],
   "source": [
    "#dropping null values\n",
    "country_wise_co2.dropna(inplace=True)\n",
    "country_wise_co2.head()"
   ]
  },
  {
   "cell_type": "code",
   "execution_count": 35,
   "metadata": {
    "collapsed": false
   },
   "outputs": [
    {
     "data": {
      "text/html": [
       "<div>\n",
       "<table border=\"1\" class=\"dataframe\">\n",
       "  <thead>\n",
       "    <tr style=\"text-align: right;\">\n",
       "      <th></th>\n",
       "      <th>Country Name</th>\n",
       "      <th>Country Code</th>\n",
       "      <th>Indicator Name</th>\n",
       "      <th>Indicator Code</th>\n",
       "      <th>Year</th>\n",
       "      <th>Co2_emissions</th>\n",
       "    </tr>\n",
       "  </thead>\n",
       "  <tbody>\n",
       "    <tr>\n",
       "      <th>2510</th>\n",
       "      <td>Bhutan</td>\n",
       "      <td>BTN</td>\n",
       "      <td>CO2 emissions (metric tons per capita)</td>\n",
       "      <td>EN.ATM.CO2E.PC</td>\n",
       "      <td>1970</td>\n",
       "      <td>0.012582</td>\n",
       "    </tr>\n",
       "    <tr>\n",
       "      <th>2758</th>\n",
       "      <td>Bhutan</td>\n",
       "      <td>BTN</td>\n",
       "      <td>CO2 emissions (metric tons per capita)</td>\n",
       "      <td>EN.ATM.CO2E.PC</td>\n",
       "      <td>1971</td>\n",
       "      <td>0.012156</td>\n",
       "    </tr>\n",
       "    <tr>\n",
       "      <th>3006</th>\n",
       "      <td>Bhutan</td>\n",
       "      <td>BTN</td>\n",
       "      <td>CO2 emissions (metric tons per capita)</td>\n",
       "      <td>EN.ATM.CO2E.PC</td>\n",
       "      <td>1972</td>\n",
       "      <td>0.011726</td>\n",
       "    </tr>\n",
       "    <tr>\n",
       "      <th>3254</th>\n",
       "      <td>Bhutan</td>\n",
       "      <td>BTN</td>\n",
       "      <td>CO2 emissions (metric tons per capita)</td>\n",
       "      <td>EN.ATM.CO2E.PC</td>\n",
       "      <td>1973</td>\n",
       "      <td>0.011302</td>\n",
       "    </tr>\n",
       "    <tr>\n",
       "      <th>3502</th>\n",
       "      <td>Bhutan</td>\n",
       "      <td>BTN</td>\n",
       "      <td>CO2 emissions (metric tons per capita)</td>\n",
       "      <td>EN.ATM.CO2E.PC</td>\n",
       "      <td>1974</td>\n",
       "      <td>0.010892</td>\n",
       "    </tr>\n",
       "  </tbody>\n",
       "</table>\n",
       "</div>"
      ],
      "text/plain": [
       "     Country Name Country Code                          Indicator Name  \\\n",
       "2510       Bhutan          BTN  CO2 emissions (metric tons per capita)   \n",
       "2758       Bhutan          BTN  CO2 emissions (metric tons per capita)   \n",
       "3006       Bhutan          BTN  CO2 emissions (metric tons per capita)   \n",
       "3254       Bhutan          BTN  CO2 emissions (metric tons per capita)   \n",
       "3502       Bhutan          BTN  CO2 emissions (metric tons per capita)   \n",
       "\n",
       "      Indicator Code  Year  Co2_emissions  \n",
       "2510  EN.ATM.CO2E.PC  1970       0.012582  \n",
       "2758  EN.ATM.CO2E.PC  1971       0.012156  \n",
       "3006  EN.ATM.CO2E.PC  1972       0.011726  \n",
       "3254  EN.ATM.CO2E.PC  1973       0.011302  \n",
       "3502  EN.ATM.CO2E.PC  1974       0.010892  "
      ]
     },
     "execution_count": 35,
     "metadata": {},
     "output_type": "execute_result"
    }
   ],
   "source": [
    "# Extracting Bhutan's co2 emissions history\n",
    "\n",
    "bhutan_co2 = country_wise_co2[country_wise_co2['Country Name'] == 'Bhutan']\n",
    "bhutan_co2.head()"
   ]
  },
  {
   "cell_type": "code",
   "execution_count": 40,
   "metadata": {
    "collapsed": false
   },
   "outputs": [
    {
     "data": {
      "text/plain": [
       "<matplotlib.text.Text at 0x119568b50>"
      ]
     },
     "execution_count": 40,
     "metadata": {},
     "output_type": "execute_result"
    },
    {
     "data": {
      "image/png": "[encoded data removed]",
      "text/plain": [
       "<matplotlib.figure.Figure at 0x11acc7590>"
      ]
     },
     "metadata": {},
     "output_type": "display_data"
    }
   ],
   "source": [
    "fig = plt.figure()\n",
    "ax = fig.add_subplot(111)\n",
    "ax.plot(bhutan_co2['Year'], bhutan_co2['Co2_emissions'])\n",
    "ax.set_title(\"Bhutan C02 Emissions\")\n",
    "ax.set_xlabel(\"Years\")\n",
    "ax.set_ylabel(\"metric ton per capita\")"
   ]
  },
  {
   "cell_type": "code",
   "execution_count": 76,
   "metadata": {
    "collapsed": false
   },
   "outputs": [
    {
     "data": {
      "text/html": [
       "<div>\n",
       "<table border=\"1\" class=\"dataframe\">\n",
       "  <thead>\n",
       "    <tr style=\"text-align: right;\">\n",
       "      <th></th>\n",
       "      <th>Country Name</th>\n",
       "      <th>Country Code</th>\n",
       "      <th>Indicator Name</th>\n",
       "      <th>Indicator Code</th>\n",
       "      <th>Year</th>\n",
       "      <th>Co2_emissions</th>\n",
       "    </tr>\n",
       "  </thead>\n",
       "  <tbody>\n",
       "    <tr>\n",
       "      <th>233</th>\n",
       "      <td>United States</td>\n",
       "      <td>USA</td>\n",
       "      <td>CO2 emissions (metric tons per capita)</td>\n",
       "      <td>EN.ATM.CO2E.PC</td>\n",
       "      <td>1960</td>\n",
       "      <td>15.999779</td>\n",
       "    </tr>\n",
       "    <tr>\n",
       "      <th>481</th>\n",
       "      <td>United States</td>\n",
       "      <td>USA</td>\n",
       "      <td>CO2 emissions (metric tons per capita)</td>\n",
       "      <td>EN.ATM.CO2E.PC</td>\n",
       "      <td>1961</td>\n",
       "      <td>15.681256</td>\n",
       "    </tr>\n",
       "    <tr>\n",
       "      <th>729</th>\n",
       "      <td>United States</td>\n",
       "      <td>USA</td>\n",
       "      <td>CO2 emissions (metric tons per capita)</td>\n",
       "      <td>EN.ATM.CO2E.PC</td>\n",
       "      <td>1962</td>\n",
       "      <td>16.013937</td>\n",
       "    </tr>\n",
       "    <tr>\n",
       "      <th>977</th>\n",
       "      <td>United States</td>\n",
       "      <td>USA</td>\n",
       "      <td>CO2 emissions (metric tons per capita)</td>\n",
       "      <td>EN.ATM.CO2E.PC</td>\n",
       "      <td>1963</td>\n",
       "      <td>16.482762</td>\n",
       "    </tr>\n",
       "    <tr>\n",
       "      <th>1225</th>\n",
       "      <td>United States</td>\n",
       "      <td>USA</td>\n",
       "      <td>CO2 emissions (metric tons per capita)</td>\n",
       "      <td>EN.ATM.CO2E.PC</td>\n",
       "      <td>1964</td>\n",
       "      <td>16.968119</td>\n",
       "    </tr>\n",
       "  </tbody>\n",
       "</table>\n",
       "</div>"
      ],
      "text/plain": [
       "       Country Name Country Code                          Indicator Name  \\\n",
       "233   United States          USA  CO2 emissions (metric tons per capita)   \n",
       "481   United States          USA  CO2 emissions (metric tons per capita)   \n",
       "729   United States          USA  CO2 emissions (metric tons per capita)   \n",
       "977   United States          USA  CO2 emissions (metric tons per capita)   \n",
       "1225  United States          USA  CO2 emissions (metric tons per capita)   \n",
       "\n",
       "      Indicator Code  Year  Co2_emissions  \n",
       "233   EN.ATM.CO2E.PC  1960      15.999779  \n",
       "481   EN.ATM.CO2E.PC  1961      15.681256  \n",
       "729   EN.ATM.CO2E.PC  1962      16.013937  \n",
       "977   EN.ATM.CO2E.PC  1963      16.482762  \n",
       "1225  EN.ATM.CO2E.PC  1964      16.968119  "
      ]
     },
     "execution_count": 76,
     "metadata": {},
     "output_type": "execute_result"
    }
   ],
   "source": [
    "# Extracting USA's Co2 emissions\n",
    "\n",
    "usa_co2 = country_wise_co2[country_wise_co2['Country Name'] == 'United States']\n",
    "usa_co2.head()"
   ]
  },
  {
   "cell_type": "code",
   "execution_count": 78,
   "metadata": {
    "collapsed": false
   },
   "outputs": [
    {
     "data": {
      "text/plain": [
       "<matplotlib.text.Text at 0x11d7b2e90>"
      ]
     },
     "execution_count": 78,
     "metadata": {},
     "output_type": "execute_result"
    },
    {
     "data": {
      "image/png": "[encoded data removed]",
      "text/plain": [
       "<matplotlib.figure.Figure at 0x11b91d4d0>"
      ]
     },
     "metadata": {},
     "output_type": "display_data"
    }
   ],
   "source": [
    "# Plotting USA's co2 emissions over time\n",
    "fig = plt.figure()\n",
    "ax = fig.add_subplot(111)\n",
    "ax.plot(usa_co2['Year'], usa_co2['Co2_emissions'])\n",
    "ax.set_title(\"USA C02 Emissions\")\n",
    "ax.set_xlabel(\"Years\")\n",
    "ax.set_ylabel(\"metric ton per capita\")"
   ]
  },
  {
   "cell_type": "markdown",
   "metadata": {},
   "source": [
    "# Forest area by Percentage data from World Bank "
   ]
  },
  {
   "cell_type": "code",
   "execution_count": 69,
   "metadata": {
    "collapsed": false
   },
   "outputs": [
    {
     "name": "stdout",
     "output_type": "stream",
     "text": [
      "<class 'pandas.core.frame.DataFrame'>\n",
      "Int64Index: 248 entries, 0 to 247\n",
      "Data columns (total 61 columns):\n",
      "Country Name      248 non-null object\n",
      "Country Code      248 non-null object\n",
      "Indicator Name    248 non-null object\n",
      "Indicator Code    248 non-null object\n",
      "1960              0 non-null float64\n",
      "1961              0 non-null float64\n",
      "1962              0 non-null float64\n",
      "1963              0 non-null float64\n",
      "1964              0 non-null float64\n",
      "1965              0 non-null float64\n",
      "1966              0 non-null float64\n",
      "1967              0 non-null float64\n",
      "1968              0 non-null float64\n",
      "1969              0 non-null float64\n",
      "1970              0 non-null float64\n",
      "1971              0 non-null float64\n",
      "1972              0 non-null float64\n",
      "1973              0 non-null float64\n",
      "1974              0 non-null float64\n",
      "1975              0 non-null float64\n",
      "1976              0 non-null float64\n",
      "1977              0 non-null float64\n",
      "1978              0 non-null float64\n",
      "1979              0 non-null float64\n",
      "1980              0 non-null float64\n",
      "1981              0 non-null float64\n",
      "1982              0 non-null float64\n",
      "1983              0 non-null float64\n",
      "1984              0 non-null float64\n",
      "1985              0 non-null float64\n",
      "1986              0 non-null float64\n",
      "1987              0 non-null float64\n",
      "1988              0 non-null float64\n",
      "1989              0 non-null float64\n",
      "1990              235 non-null float64\n",
      "1991              209 non-null float64\n",
      "1992              232 non-null float64\n",
      "1993              235 non-null float64\n",
      "1994              235 non-null float64\n",
      "1995              235 non-null float64\n",
      "1996              235 non-null float64\n",
      "1997              235 non-null float64\n",
      "1998              235 non-null float64\n",
      "1999              235 non-null float64\n",
      "2000              241 non-null float64\n",
      "2001              237 non-null float64\n",
      "2002              237 non-null float64\n",
      "2003              237 non-null float64\n",
      "2004              237 non-null float64\n",
      "2005              241 non-null float64\n",
      "2006              239 non-null float64\n",
      "2007              239 non-null float64\n",
      "2008              239 non-null float64\n",
      "2009              239 non-null float64\n",
      "2010              241 non-null float64\n",
      "2011              239 non-null float64\n",
      "2012              239 non-null float64\n",
      "2013              239 non-null float64\n",
      "2014              0 non-null float64\n",
      "2015              236 non-null float64\n",
      "Unnamed: 60       0 non-null float64\n",
      "dtypes: float64(57), object(4)\n",
      "memory usage: 120.1+ KB\n"
     ]
    }
   ],
   "source": [
    "forest_cover = pd.read_csv(\"Country_wise_forest_area_percentage.csv\", skiprows=4)\n",
    "forest_cover.info()"
   ]
  },
  {
   "cell_type": "code",
   "execution_count": 70,
   "metadata": {
    "collapsed": false
   },
   "outputs": [
    {
     "name": "stdout",
     "output_type": "stream",
     "text": [
      "<class 'pandas.core.frame.DataFrame'>\n",
      "Int64Index: 248 entries, 0 to 247\n",
      "Data columns (total 29 columns):\n",
      "Country Name      248 non-null object\n",
      "Country Code      248 non-null object\n",
      "Indicator Name    248 non-null object\n",
      "Indicator Code    248 non-null object\n",
      "1990              235 non-null float64\n",
      "1991              209 non-null float64\n",
      "1992              232 non-null float64\n",
      "1993              235 non-null float64\n",
      "1994              235 non-null float64\n",
      "1995              235 non-null float64\n",
      "1996              235 non-null float64\n",
      "1997              235 non-null float64\n",
      "1998              235 non-null float64\n",
      "1999              235 non-null float64\n",
      "2000              241 non-null float64\n",
      "2001              237 non-null float64\n",
      "2002              237 non-null float64\n",
      "2003              237 non-null float64\n",
      "2004              237 non-null float64\n",
      "2005              241 non-null float64\n",
      "2006              239 non-null float64\n",
      "2007              239 non-null float64\n",
      "2008              239 non-null float64\n",
      "2009              239 non-null float64\n",
      "2010              241 non-null float64\n",
      "2011              239 non-null float64\n",
      "2012              239 non-null float64\n",
      "2013              239 non-null float64\n",
      "2015              236 non-null float64\n",
      "dtypes: float64(25), object(4)\n",
      "memory usage: 58.1+ KB\n"
     ]
    }
   ],
   "source": [
    "# Dropping null columns\n",
    "\n",
    "forest_cover.drop(forest_cover.columns[range(4,34)], 1, inplace=True)\n",
    "forest_cover.drop(['2014', 'Unnamed: 60'], 1, inplace=True)\n",
    "forest_cover.info()"
   ]
  },
  {
   "cell_type": "code",
   "execution_count": 71,
   "metadata": {
    "collapsed": false
   },
   "outputs": [
    {
     "data": {
      "text/html": [
       "<div>\n",
       "<table border=\"1\" class=\"dataframe\">\n",
       "  <thead>\n",
       "    <tr style=\"text-align: right;\">\n",
       "      <th></th>\n",
       "      <th>Country Name</th>\n",
       "      <th>Country Code</th>\n",
       "      <th>Indicator Name</th>\n",
       "      <th>Indicator Code</th>\n",
       "      <th>Year</th>\n",
       "      <th>ForestCoverPercent</th>\n",
       "    </tr>\n",
       "  </thead>\n",
       "  <tbody>\n",
       "    <tr>\n",
       "      <th>0</th>\n",
       "      <td>Aruba</td>\n",
       "      <td>ABW</td>\n",
       "      <td>Forest area (% of land area)</td>\n",
       "      <td>AG.LND.FRST.ZS</td>\n",
       "      <td>1990</td>\n",
       "      <td>0.000000</td>\n",
       "    </tr>\n",
       "    <tr>\n",
       "      <th>1</th>\n",
       "      <td>Andorra</td>\n",
       "      <td>AND</td>\n",
       "      <td>Forest area (% of land area)</td>\n",
       "      <td>AG.LND.FRST.ZS</td>\n",
       "      <td>1990</td>\n",
       "      <td>34.042553</td>\n",
       "    </tr>\n",
       "    <tr>\n",
       "      <th>2</th>\n",
       "      <td>Afghanistan</td>\n",
       "      <td>AFG</td>\n",
       "      <td>Forest area (% of land area)</td>\n",
       "      <td>AG.LND.FRST.ZS</td>\n",
       "      <td>1990</td>\n",
       "      <td>2.067825</td>\n",
       "    </tr>\n",
       "    <tr>\n",
       "      <th>3</th>\n",
       "      <td>Angola</td>\n",
       "      <td>AGO</td>\n",
       "      <td>Forest area (% of land area)</td>\n",
       "      <td>AG.LND.FRST.ZS</td>\n",
       "      <td>1990</td>\n",
       "      <td>48.909922</td>\n",
       "    </tr>\n",
       "    <tr>\n",
       "      <th>4</th>\n",
       "      <td>Albania</td>\n",
       "      <td>ALB</td>\n",
       "      <td>Forest area (% of land area)</td>\n",
       "      <td>AG.LND.FRST.ZS</td>\n",
       "      <td>1990</td>\n",
       "      <td>28.795620</td>\n",
       "    </tr>\n",
       "  </tbody>\n",
       "</table>\n",
       "</div>"
      ],
      "text/plain": [
       "  Country Name Country Code                Indicator Name  Indicator Code  \\\n",
       "0        Aruba          ABW  Forest area (% of land area)  AG.LND.FRST.ZS   \n",
       "1      Andorra          AND  Forest area (% of land area)  AG.LND.FRST.ZS   \n",
       "2  Afghanistan          AFG  Forest area (% of land area)  AG.LND.FRST.ZS   \n",
       "3       Angola          AGO  Forest area (% of land area)  AG.LND.FRST.ZS   \n",
       "4      Albania          ALB  Forest area (% of land area)  AG.LND.FRST.ZS   \n",
       "\n",
       "   Year  ForestCoverPercent  \n",
       "0  1990            0.000000  \n",
       "1  1990           34.042553  \n",
       "2  1990            2.067825  \n",
       "3  1990           48.909922  \n",
       "4  1990           28.795620  "
      ]
     },
     "execution_count": 71,
     "metadata": {},
     "output_type": "execute_result"
    }
   ],
   "source": [
    "# modifying the frame: folding year value into a column \n",
    "\n",
    "forest_cover = pd.melt(forest_cover, id_vars=['Country Name', 'Country Code', 'Indicator Name', 'Indicator Code'], var_name='Year', value_name='ForestCoverPercent')\n",
    "forest_cover.head()"
   ]
  },
  {
   "cell_type": "code",
   "execution_count": 72,
   "metadata": {
    "collapsed": false
   },
   "outputs": [
    {
     "name": "stdout",
     "output_type": "stream",
     "text": [
      "<class 'pandas.core.frame.DataFrame'>\n",
      "Int64Index: 5901 entries, 0 to 6199\n",
      "Data columns (total 6 columns):\n",
      "Country Name          5901 non-null object\n",
      "Country Code          5901 non-null object\n",
      "Indicator Name        5901 non-null object\n",
      "Indicator Code        5901 non-null object\n",
      "Year                  5901 non-null object\n",
      "ForestCoverPercent    5901 non-null float64\n",
      "dtypes: float64(1), object(5)\n",
      "memory usage: 322.7+ KB\n"
     ]
    }
   ],
   "source": [
    "#drop na values\n",
    "\n",
    "forest_cover.dropna(inplace = True)\n",
    "forest_cover.info()"
   ]
  },
  {
   "cell_type": "code",
   "execution_count": 73,
   "metadata": {
    "collapsed": false
   },
   "outputs": [
    {
     "data": {
      "text/html": [
       "<div>\n",
       "<table border=\"1\" class=\"dataframe\">\n",
       "  <thead>\n",
       "    <tr style=\"text-align: right;\">\n",
       "      <th></th>\n",
       "      <th>Country Name</th>\n",
       "      <th>Country Code</th>\n",
       "      <th>Indicator Name</th>\n",
       "      <th>Indicator Code</th>\n",
       "      <th>Year</th>\n",
       "      <th>ForestCoverPercent</th>\n",
       "    </tr>\n",
       "  </thead>\n",
       "  <tbody>\n",
       "    <tr>\n",
       "      <th>30</th>\n",
       "      <td>Bhutan</td>\n",
       "      <td>BTN</td>\n",
       "      <td>Forest area (% of land area)</td>\n",
       "      <td>AG.LND.FRST.ZS</td>\n",
       "      <td>1990</td>\n",
       "      <td>53.656657</td>\n",
       "    </tr>\n",
       "    <tr>\n",
       "      <th>278</th>\n",
       "      <td>Bhutan</td>\n",
       "      <td>BTN</td>\n",
       "      <td>Forest area (% of land area)</td>\n",
       "      <td>AG.LND.FRST.ZS</td>\n",
       "      <td>1991</td>\n",
       "      <td>53.862980</td>\n",
       "    </tr>\n",
       "    <tr>\n",
       "      <th>526</th>\n",
       "      <td>Bhutan</td>\n",
       "      <td>BTN</td>\n",
       "      <td>Forest area (% of land area)</td>\n",
       "      <td>AG.LND.FRST.ZS</td>\n",
       "      <td>1992</td>\n",
       "      <td>54.075509</td>\n",
       "    </tr>\n",
       "    <tr>\n",
       "      <th>774</th>\n",
       "      <td>Bhutan</td>\n",
       "      <td>BTN</td>\n",
       "      <td>Forest area (% of land area)</td>\n",
       "      <td>AG.LND.FRST.ZS</td>\n",
       "      <td>1993</td>\n",
       "      <td>54.288038</td>\n",
       "    </tr>\n",
       "    <tr>\n",
       "      <th>1022</th>\n",
       "      <td>Bhutan</td>\n",
       "      <td>BTN</td>\n",
       "      <td>Forest area (% of land area)</td>\n",
       "      <td>AG.LND.FRST.ZS</td>\n",
       "      <td>1994</td>\n",
       "      <td>63.980653</td>\n",
       "    </tr>\n",
       "  </tbody>\n",
       "</table>\n",
       "</div>"
      ],
      "text/plain": [
       "     Country Name Country Code                Indicator Name  Indicator Code  \\\n",
       "30         Bhutan          BTN  Forest area (% of land area)  AG.LND.FRST.ZS   \n",
       "278        Bhutan          BTN  Forest area (% of land area)  AG.LND.FRST.ZS   \n",
       "526        Bhutan          BTN  Forest area (% of land area)  AG.LND.FRST.ZS   \n",
       "774        Bhutan          BTN  Forest area (% of land area)  AG.LND.FRST.ZS   \n",
       "1022       Bhutan          BTN  Forest area (% of land area)  AG.LND.FRST.ZS   \n",
       "\n",
       "      Year  ForestCoverPercent  \n",
       "30    1990           53.656657  \n",
       "278   1991           53.862980  \n",
       "526   1992           54.075509  \n",
       "774   1993           54.288038  \n",
       "1022  1994           63.980653  "
      ]
     },
     "execution_count": 73,
     "metadata": {},
     "output_type": "execute_result"
    }
   ],
   "source": [
    "# Extracting Bhutan's forest % distribution\n",
    "\n",
    "bhutan_forest_cover = forest_cover[forest_cover['Country Name'] == 'Bhutan']\n",
    "bhutan_forest_cover.head()"
   ]
  },
  {
   "cell_type": "code",
   "execution_count": 75,
   "metadata": {
    "collapsed": false
   },
   "outputs": [
    {
     "data": {
      "text/plain": [
       "<matplotlib.text.Text at 0x11b855950>"
      ]
     },
     "execution_count": 75,
     "metadata": {},
     "output_type": "execute_result"
    },
    {
     "data": {
      "image/png": "[encoded data removed]",
      "text/plain": [
       "<matplotlib.figure.Figure at 0x118cea3d0>"
      ]
     },
     "metadata": {},
     "output_type": "display_data"
    }
   ],
   "source": [
    "# Plotting distribution of Bhutan's forest cover\n",
    "\n",
    "fig = plt.figure()\n",
    "ax = fig.add_subplot(111)\n",
    "ax.plot(bhutan_forest_cover['Year'], bhutan_forest_cover['ForestCoverPercent'], color = \"Green\")\n",
    "ax.set_title(\"Bhutan's Forest Cover\")\n",
    "ax.set_xlabel(\"Year\")\n",
    "ax.set_ylabel(\"% of land that is forest\")"
   ]
  },
  {
   "cell_type": "code",
   "execution_count": 79,
   "metadata": {
    "collapsed": false
   },
   "outputs": [
    {
     "data": {
      "text/html": [
       "<div>\n",
       "<table border=\"1\" class=\"dataframe\">\n",
       "  <thead>\n",
       "    <tr style=\"text-align: right;\">\n",
       "      <th></th>\n",
       "      <th>Country Name</th>\n",
       "      <th>Country Code</th>\n",
       "      <th>Indicator Name</th>\n",
       "      <th>Indicator Code</th>\n",
       "      <th>Year</th>\n",
       "      <th>ForestCoverPercent</th>\n",
       "    </tr>\n",
       "  </thead>\n",
       "  <tbody>\n",
       "    <tr>\n",
       "      <th>233</th>\n",
       "      <td>United States</td>\n",
       "      <td>USA</td>\n",
       "      <td>Forest area (% of land area)</td>\n",
       "      <td>AG.LND.FRST.ZS</td>\n",
       "      <td>1990</td>\n",
       "      <td>33.022308</td>\n",
       "    </tr>\n",
       "    <tr>\n",
       "      <th>481</th>\n",
       "      <td>United States</td>\n",
       "      <td>USA</td>\n",
       "      <td>Forest area (% of land area)</td>\n",
       "      <td>AG.LND.FRST.ZS</td>\n",
       "      <td>1991</td>\n",
       "      <td>33.034165</td>\n",
       "    </tr>\n",
       "    <tr>\n",
       "      <th>729</th>\n",
       "      <td>United States</td>\n",
       "      <td>USA</td>\n",
       "      <td>Forest area (% of land area)</td>\n",
       "      <td>AG.LND.FRST.ZS</td>\n",
       "      <td>1992</td>\n",
       "      <td>33.046023</td>\n",
       "    </tr>\n",
       "    <tr>\n",
       "      <th>977</th>\n",
       "      <td>United States</td>\n",
       "      <td>USA</td>\n",
       "      <td>Forest area (% of land area)</td>\n",
       "      <td>AG.LND.FRST.ZS</td>\n",
       "      <td>1993</td>\n",
       "      <td>33.057880</td>\n",
       "    </tr>\n",
       "    <tr>\n",
       "      <th>1225</th>\n",
       "      <td>United States</td>\n",
       "      <td>USA</td>\n",
       "      <td>Forest area (% of land area)</td>\n",
       "      <td>AG.LND.FRST.ZS</td>\n",
       "      <td>1994</td>\n",
       "      <td>33.069737</td>\n",
       "    </tr>\n",
       "  </tbody>\n",
       "</table>\n",
       "</div>"
      ],
      "text/plain": [
       "       Country Name Country Code                Indicator Name  \\\n",
       "233   United States          USA  Forest area (% of land area)   \n",
       "481   United States          USA  Forest area (% of land area)   \n",
       "729   United States          USA  Forest area (% of land area)   \n",
       "977   United States          USA  Forest area (% of land area)   \n",
       "1225  United States          USA  Forest area (% of land area)   \n",
       "\n",
       "      Indicator Code  Year  ForestCoverPercent  \n",
       "233   AG.LND.FRST.ZS  1990           33.022308  \n",
       "481   AG.LND.FRST.ZS  1991           33.034165  \n",
       "729   AG.LND.FRST.ZS  1992           33.046023  \n",
       "977   AG.LND.FRST.ZS  1993           33.057880  \n",
       "1225  AG.LND.FRST.ZS  1994           33.069737  "
      ]
     },
     "execution_count": 79,
     "metadata": {},
     "output_type": "execute_result"
    }
   ],
   "source": [
    "# Extracting USA's forest cover percentage\n",
    "\n",
    "usa_forest_cover = forest_cover[forest_cover['Country Name'] == 'United States']\n",
    "usa_forest_cover.head()"
   ]
  },
  {
   "cell_type": "code",
   "execution_count": 80,
   "metadata": {
    "collapsed": false
   },
   "outputs": [
    {
     "data": {
      "text/plain": [
       "<matplotlib.text.Text at 0x11d78aad0>"
      ]
     },
     "execution_count": 80,
     "metadata": {},
     "output_type": "execute_result"
    },
    {
     "data": {
      "image/png": "[encoded data removed]",
      "text/plain": [
       "<matplotlib.figure.Figure at 0x11d7e0350>"
      ]
     },
     "metadata": {},
     "output_type": "display_data"
    }
   ],
   "source": [
    "# Plotting distribution of USA's forest cover\n",
    "\n",
    "fig = plt.figure()\n",
    "ax = fig.add_subplot(111)\n",
    "ax.plot(usa_forest_cover['Year'], usa_forest_cover['ForestCoverPercent'], color = \"Green\")\n",
    "ax.set_title(\"USA's Forest Cover\")\n",
    "ax.set_xlabel(\"Year\")\n",
    "ax.set_ylabel(\"% of land that is forest\")"
   ]
  },
  {
   "cell_type": "code",
   "execution_count": null,
   "metadata": {
    "collapsed": true
   },
   "outputs": [],
   "source": []
  }
 ],
 "metadata": {
  "kernelspec": {
   "display_name": "Python 2",
   "language": "python",
   "name": "python2"
  },
  "language_info": {
   "codemirror_mode": {
    "name": "ipython",
    "version": 2
   },
   "file_extension": ".py",
   "mimetype": "text/x-python",
   "name": "python",
   "nbconvert_exporter": "python",
   "pygments_lexer": "ipython2",
   "version": "2.7.11"
  }
 },
 "nbformat": 4,
 "nbformat_minor": 0
}
